{
 "cells": [
  {
   "cell_type": "markdown",
   "metadata": {
    "id": "uwkUBBUPMybt"
   },
   "source": [
    "# Conteúdo dos arquivos NWB"
   ]
  },
  {
   "cell_type": "markdown",
   "metadata": {
    "id": "jCHVfd5d8uED"
   },
   "source": [
    "Este dataset contém gravações eletrofisiológicas no **córtex entorrinal (LEC, MEC)** e no **hipocampo (CA1)** de ratos Long Evans adultos, coletadas com sondas Neuropixels 2.0 em condições de livre comportamento.\n",
    "\n",
    "---\n",
    "\n",
    "## Estrutura dos Arquivos\n",
    "\n",
    "Cada arquivo `.nwb` segue o padrão **NWB 2.0 (HDF5)** e inclui:\n",
    "\n",
    "- **/epochs**  \n",
    "  Blocos de tempo correspondentes a tarefas ou estados (ex.: *Foraging task*, *Natural sleep*, *Figure-eight*, *Odor sequence*, *Novel object*).  \n",
    "\n",
    "- **/units**  \n",
    "  Informações de cada unidade neuronal isolada após spike sorting (spike times, taxas médias, metadados de qualidade).  \n",
    "\n",
    "- **/processing/behavior/position**  \n",
    "  Trajetória do animal no plano 2D (x, y).  \n",
    "\n",
    "- **/processing/behavior/direction**  \n",
    "  Direção da cabeça do animal.  \n",
    "\n",
    "- **/processing/behavior/speed**  \n",
    "  Velocidade de deslocamento em cm/s.  \n",
    "\n",
    "- **/time_intervals/**  \n",
    "  Eventos específicos em tarefas de sequência:  \n",
    "  - `mill_active` → quando a esteira estava ligada.  \n",
    "  - `door_open` → quando a porta do labirinto foi aberta.  \n",
    "\n",
    "- **/acquisition/**  \n",
    "  Sinais eletrofisiológicos brutos (30 kHz), não utilizados diretamente nas tabelas derivadas.  \n",
    "\n",
    "---\n",
    "\n",
    "## Metadados Importantes\n",
    "\n",
    "- **Subject ID**: identifica cada rato (9 sujeitos no total).  \n",
    "- **session_description**: breve descrição do experimento.  \n",
    "- **start_time / stop_time**: duração da sessão.  \n",
    "- **task**: tipo de comportamento associado àquele bloco de gravação.  \n",
    "\n",
    "---\n",
    "\n",
    "## Tipos de Sessão\n",
    "\n",
    "De acordo com o índice (`index.json`), os arquivos incluem registros de:\n",
    "\n",
    "1. **Foraging task** – exploração em arena aberta em busca de comida.  \n",
    "2. **Figure-eight task** – corrida em labirinto em forma de 8 com recompensa.  \n",
    "3. **Odor sequence task** – tarefa de sequência de odores em esteira + recompensa.  \n",
    "4. **Novel object task** – exploração de objetos novos em arena.  \n",
    "5. **Natural sleep** – períodos de sono natural em caixa de descanso.  \n",
    "\n",
    "---\n",
    "\n",
    "## Uso dos Dados\n",
    "\n",
    "A partir desses arquivos, é possível extrair:\n",
    "\n",
    "- **Atividade neural (spike times, firing rates)** por unidade ou população.  \n",
    "- **Comportamento** (posição, direção, velocidade, imobilidade).  \n",
    "- **Estrutura temporal de eventos** durante cada tarefa.  \n",
    "\n",
    "Os CSVs derivados organizam essa informação em **bins temporais** (ex.: 10 ms), unificando sinais neurais e variáveis comportamentais para análises de dinâmica populacional e replay.  "
   ]
  },
  {
   "cell_type": "markdown",
   "metadata": {
    "id": "vbOmcNq3828W"
   },
   "source": [
    "## Funções usadas para extrair o conteúdo"
   ]
  },
  {
   "cell_type": "markdown",
   "metadata": {
    "id": "3T2svZ4NBcDN"
   },
   "source": [
    "### Fluxo de Trabalho de Extração e Consolidação de Dados NWB (Neurodata Without Borders)\n",
    "\n",
    "O processo foi dividido em duas fases principais, executadas por dois scripts Python:\n",
    "\n",
    "- **`nwb_cru.py` (Extração):** Script responsável por acessar diretamente os dados crus armazenados no arquivo NWB e exportá-los para arquivos CSV individuais.  \n",
    "- **`nwb_consolidate.py` (Consolidação):** Script que organiza, agrupa e combina os arquivos CSV individuais gerados pela fase de extração em arquivos maiores e padronizados.\n",
    "\n",
    "---\n",
    "\n",
    "## 1. Extração Crua (`nwb_cru.py`)\n",
    "\n",
    "O script `nwb_cru.py` é a porta de entrada para os dados brutos. Ele segue o princípio da **Extração Crua**, ou seja, os dados são retirados do NWB no formato mais próximo do original, sem binning, médias ou transformações complexas.\n",
    "\n",
    "### Conceitos Principais\n",
    "\n",
    "| Conceito                         | O que é |\n",
    "|----------------------------------|---------|\n",
    "| **NWB (Neurodata Without Borders)** | Um **formato de arquivo padronizado** (baseado em HDF5) para armazenar dados de neurociência experimental, como eletrofisiologia, comportamento e imagem. |\n",
    "| **pynwb**                        | Uma **biblioteca Python** que permite **ler e escrever arquivos NWB**, fornecendo acesso estruturado e padronizado aos dados. |\n",
    "| **Leitura Preguiçosa (Lazy Loading)** | Um **método de carregamento sob demanda**. Em vez de trazer todos os dados (como milhões de spikes) para a memória de uma só vez, carrega apenas referências e lê dados em partes menores. Isso economiza memória RAM. |\n",
    "| **units Table**                  | Uma **tabela interna do NWB** que armazena informações sobre cada unidade registrada (exemplo: ID, localização, eletrodo associado). |\n",
    "| **Time Series / Spatial Series** | Estruturas no NWB para **armazenar dados contínuos no tempo**, com carimbo de tempo (timestamp). Exemplos: posição do animal ou velocidade de movimento. |\n",
    "\n",
    "### Exportar para Planilhas\n",
    "\n",
    "O script percorre cada arquivo NWB e gera os seguintes arquivos CSV ou JSON:\n",
    "\n",
    "| Categoria de Dados  | Função de Extração             | Arquivo de Saída | O que é |\n",
    "|---------------------|--------------------------------|------------------|---------|\n",
    "| **Metadados**       | `get_session_meta`             | `[sessão]_metadata.json` | Informações gerais da sessão, como data, animal, equipamento, etc. |\n",
    "| **Unidades / Células** | `get_units_table`           | `[sessão]_units.csv` | Lista de células/unidades registradas com seus atributos. |\n",
    "| **Spike Times**     | `save_spike_times_to_csv`      | `[sessão]_spike_times.csv` | Registro dos instantes de disparo de cada célula. |\n",
    "| **Épocas / Intervalos** | `get_epochs_df`, `get_time_intervals` | `[sessão]_epochs.csv`, `[sessão]_intervals_[nome].csv` | Períodos de interesse do experimento, como fases de estímulo ou repouso. |\n",
    "| **Comportamento**   | `get_behavior_time_series`     | `[sessão]_[nome_serie].csv` | Dados contínuos relacionados ao comportamento, como posição ou velocidade. |\n",
    "\n",
    "**Destaque:**  \n",
    "A função `save_spike_times_to_csv` utiliza `get_spike_handles` e `iter_unit_spike_slices` para ler os *spike times* de forma eficiente, gerando um DataFrame final com colunas **unit_id** (identificador da célula) e **spike_time** (instante de disparo).\n",
    "\n",
    "---\n",
    "\n",
    "## 2. Consolidação de Dados (`nwb_consolidate.py`)\n",
    "\n",
    "O script `nwb_consolidate.py` organiza e padroniza os arquivos CSV gerados na etapa anterior, criando conjuntos consolidados de dados para análise.\n",
    "\n",
    "### Conceitos Principais\n",
    "\n",
    "| Conceito | O que é |\n",
    "|----------|---------|\n",
    "| **Agrupamento por Mapeamento (CSV_MAPPING)** | Um **dicionário de configuração** que define como diferentes CSVs devem ser agrupados. Exemplo: arquivos de velocidade (`movement_speed.csv`, `head_yaw_speed.csv`) são combinados em um só (`consolidated_behavior_speed.csv`). |\n",
    "| **Concatenação de DataFrames (pd.concat)** | Uma **operação da biblioteca Pandas** que empilha DataFrames linha a linha, unindo vários arquivos em um só. |\n",
    "| **Colunas de Identificação (source_file)** | Uma **coluna adicional** que registra de qual sessão/arquivo NWB cada linha de dado veio. Isso garante rastreabilidade mesmo após a consolidação. |\n",
    "\n",
    "### Fluxo de Funcionamento\n",
    "\n",
    "1. **Configuração**  \n",
    "   - Define as pastas de entrada (`INPUT_DIR`) e saída (`OUTPUT_DIR`).\n",
    "\n",
    "2. **Iteração**  \n",
    "   - Percorre todos os arquivos CSV presentes em `INPUT_DIR`.\n",
    "\n",
    "3. **Identificação do Grupo**  \n",
    "   - Para cada CSV, utiliza `CSV_MAPPING` e `find_csv_group` para determinar em qual arquivo consolidado ele será incluído.\n",
    "\n",
    "4. **Injeção de Metadados**  \n",
    "   - Lê o CSV em um DataFrame (`pd.read_csv`).  \n",
    "   - Extrai o nome da sessão (exemplo: `27963_2022-Feb-09_08-02-57`).  \n",
    "   - Adiciona a coluna `source_file` ao DataFrame para indicar a origem.  \n",
    "   - Adiciona o DataFrame à lista do grupo correspondente.\n",
    "\n",
    "5. **Agrupamento Final**  \n",
    "   - Usa `pd.concat()` para unir todos os DataFrames de um grupo.  \n",
    "   - Salva o resultado em um novo arquivo consolidado na `OUTPUT_DIR`.\n",
    "\n",
    "---\n"
   ]
  },
  {
   "cell_type": "markdown",
   "metadata": {
    "id": "cGUCmd_FQFE_"
   },
   "source": [
    "# Buscando Dados"
   ]
  },
  {
   "cell_type": "code",
   "execution_count": 47,
   "metadata": {
    "executionInfo": {
     "elapsed": 3740,
     "status": "ok",
     "timestamp": 1759120216021,
     "user": {
      "displayName": "JOYCE XAVIER",
      "userId": "11065201053352527535"
     },
     "user_tz": 180
    },
    "id": "R96TsfYu8K-M"
   },
   "outputs": [],
   "source": [
    "# imports\n",
    "import pandas as pd\n",
    "import numpy as np\n",
    "import matplotlib.pyplot as plt\n",
    "import seaborn as sns\n",
    "from scipy.stats import zscore\n",
    "from pathlib import Path\n",
    "import pyarrow as pa\n",
    "import pyarrow.parquet as pq"
   ]
  },
  {
   "cell_type": "code",
   "execution_count": null,
   "metadata": {
    "colab": {
     "base_uri": "https://localhost:8080/"
    },
    "executionInfo": {
     "elapsed": 2433,
     "status": "ok",
     "timestamp": 1759120218458,
     "user": {
      "displayName": "JOYCE XAVIER",
      "userId": "11065201053352527535"
     },
     "user_tz": 180
    },
    "id": "vPq-xYuiFRtH",
    "outputId": "5f33b54f-ae8e-4e97-baed-c07fe07c6718"
   },
   "outputs": [
    {
     "name": "stdout",
     "output_type": "stream",
     "text": [
      "Drive already mounted at /content/drive; to attempt to forcibly remount, call drive.mount(\"/content/drive\", force_remount=True).\n"
     ]
    }
   ],
   "source": [
    "# from google.colab import drive\n",
    "# drive.mount('/content/drive')\n"
   ]
  },
  {
   "cell_type": "code",
   "execution_count": 3,
   "metadata": {
    "colab": {
     "base_uri": "https://localhost:8080/"
    },
    "executionInfo": {
     "elapsed": 11692,
     "status": "ok",
     "timestamp": 1759120230153,
     "user": {
      "displayName": "JOYCE XAVIER",
      "userId": "11065201053352527535"
     },
     "user_tz": 180
    },
    "id": "RO1gsdpU8RWn",
    "outputId": "2020fe28-745d-4e15-f4ba-ac4d5a386c96"
   },
   "outputs": [
    {
     "name": "stdout",
     "output_type": "stream",
     "text": [
      "Collecting ydata-profiling\n",
      "  Downloading ydata_profiling-4.17.0-py2.py3-none-any.whl.metadata (22 kB)\n",
      "Requirement already satisfied: scipy<1.16,>=1.4.1 in c:\\users\\joyri\\appdata\\local\\programs\\python\\python311\\lib\\site-packages (from ydata-profiling) (1.10.1)\n",
      "Requirement already satisfied: pandas!=1.4.0,<3.0,>1.1 in c:\\users\\joyri\\appdata\\local\\programs\\python\\python311\\lib\\site-packages (from ydata-profiling) (2.0.0)\n",
      "Requirement already satisfied: matplotlib<=3.10,>=3.5 in c:\\users\\joyri\\appdata\\local\\programs\\python\\python311\\lib\\site-packages (from ydata-profiling) (3.8.1)\n",
      "Requirement already satisfied: pydantic>=2 in c:\\users\\joyri\\appdata\\local\\programs\\python\\python311\\lib\\site-packages (from ydata-profiling) (2.10.6)\n",
      "Requirement already satisfied: PyYAML<6.1,>=5.0.0 in c:\\users\\joyri\\appdata\\local\\programs\\python\\python311\\lib\\site-packages (from ydata-profiling) (6.0.1)\n",
      "Requirement already satisfied: jinja2<3.2,>=2.11.1 in c:\\users\\joyri\\appdata\\local\\programs\\python\\python311\\lib\\site-packages (from ydata-profiling) (3.1.2)\n",
      "Collecting visions<0.8.2,>=0.7.5 (from visions[type_image_path]<0.8.2,>=0.7.5->ydata-profiling)\n",
      "  Downloading visions-0.8.1-py3-none-any.whl.metadata (11 kB)\n",
      "Requirement already satisfied: numpy<2.2,>=1.16.0 in c:\\users\\joyri\\appdata\\local\\programs\\python\\python311\\lib\\site-packages (from ydata-profiling) (1.26.0)\n",
      "Collecting minify-html>=0.15.0 (from ydata-profiling)\n",
      "  Downloading minify_html-0.16.4-cp311-cp311-win_amd64.whl.metadata (18 kB)\n",
      "Collecting filetype>=1.0.0 (from ydata-profiling)\n",
      "  Downloading filetype-1.2.0-py2.py3-none-any.whl.metadata (6.5 kB)\n",
      "Collecting phik<0.13,>=0.11.1 (from ydata-profiling)\n",
      "  Downloading phik-0.12.5-cp311-cp311-win_amd64.whl.metadata (5.6 kB)\n",
      "Requirement already satisfied: requests<3,>=2.24.0 in c:\\users\\joyri\\appdata\\local\\programs\\python\\python311\\lib\\site-packages (from ydata-profiling) (2.31.0)\n",
      "Requirement already satisfied: tqdm<5,>=4.48.2 in c:\\users\\joyri\\appdata\\local\\programs\\python\\python311\\lib\\site-packages (from ydata-profiling) (4.66.2)\n",
      "Requirement already satisfied: seaborn<0.14,>=0.10.1 in c:\\users\\joyri\\appdata\\local\\programs\\python\\python311\\lib\\site-packages (from ydata-profiling) (0.13.2)\n",
      "Collecting multimethod<2,>=1.4 (from ydata-profiling)\n",
      "  Downloading multimethod-1.12-py3-none-any.whl.metadata (9.6 kB)\n",
      "Collecting statsmodels<1,>=0.13.2 (from ydata-profiling)\n",
      "  Downloading statsmodels-0.14.5-cp311-cp311-win_amd64.whl.metadata (9.8 kB)\n",
      "Collecting typeguard<5,>=3 (from ydata-profiling)\n",
      "  Downloading typeguard-4.4.4-py3-none-any.whl.metadata (3.3 kB)\n",
      "Collecting imagehash==4.3.1 (from ydata-profiling)\n",
      "  Downloading ImageHash-4.3.1-py2.py3-none-any.whl.metadata (8.0 kB)\n",
      "Collecting wordcloud>=1.9.3 (from ydata-profiling)\n",
      "  Downloading wordcloud-1.9.4-cp311-cp311-win_amd64.whl.metadata (3.5 kB)\n",
      "Collecting dacite>=1.8 (from ydata-profiling)\n",
      "  Downloading dacite-1.9.2-py3-none-any.whl.metadata (17 kB)\n",
      "Collecting numba<=0.61,>=0.56.0 (from ydata-profiling)\n",
      "  Downloading numba-0.61.0-cp311-cp311-win_amd64.whl.metadata (2.8 kB)\n",
      "Collecting PyWavelets (from imagehash==4.3.1->ydata-profiling)\n",
      "  Downloading pywavelets-1.9.0-cp311-cp311-win_amd64.whl.metadata (7.6 kB)\n",
      "Requirement already satisfied: pillow in c:\\users\\joyri\\appdata\\local\\programs\\python\\python311\\lib\\site-packages (from imagehash==4.3.1->ydata-profiling) (11.1.0)\n",
      "Requirement already satisfied: MarkupSafe>=2.0 in c:\\users\\joyri\\appdata\\local\\programs\\python\\python311\\lib\\site-packages (from jinja2<3.2,>=2.11.1->ydata-profiling) (2.1.3)\n",
      "Requirement already satisfied: contourpy>=1.0.1 in c:\\users\\joyri\\appdata\\local\\programs\\python\\python311\\lib\\site-packages (from matplotlib<=3.10,>=3.5->ydata-profiling) (1.1.0)\n",
      "Requirement already satisfied: cycler>=0.10 in c:\\users\\joyri\\appdata\\local\\programs\\python\\python311\\lib\\site-packages (from matplotlib<=3.10,>=3.5->ydata-profiling) (0.11.0)\n",
      "Requirement already satisfied: fonttools>=4.22.0 in c:\\users\\joyri\\appdata\\local\\programs\\python\\python311\\lib\\site-packages (from matplotlib<=3.10,>=3.5->ydata-profiling) (4.42.1)\n",
      "Requirement already satisfied: kiwisolver>=1.3.1 in c:\\users\\joyri\\appdata\\local\\programs\\python\\python311\\lib\\site-packages (from matplotlib<=3.10,>=3.5->ydata-profiling) (1.4.5)\n",
      "Requirement already satisfied: packaging>=20.0 in c:\\users\\joyri\\appdata\\local\\programs\\python\\python311\\lib\\site-packages (from matplotlib<=3.10,>=3.5->ydata-profiling) (23.1)\n",
      "Requirement already satisfied: pyparsing>=2.3.1 in c:\\users\\joyri\\appdata\\local\\programs\\python\\python311\\lib\\site-packages (from matplotlib<=3.10,>=3.5->ydata-profiling) (3.0.9)\n",
      "Requirement already satisfied: python-dateutil>=2.7 in c:\\users\\joyri\\appdata\\local\\programs\\python\\python311\\lib\\site-packages (from matplotlib<=3.10,>=3.5->ydata-profiling) (2.8.2)\n",
      "Collecting llvmlite<0.45,>=0.44.0dev0 (from numba<=0.61,>=0.56.0->ydata-profiling)\n",
      "  Downloading llvmlite-0.44.0-cp311-cp311-win_amd64.whl.metadata (5.0 kB)\n",
      "Requirement already satisfied: pytz>=2020.1 in c:\\users\\joyri\\appdata\\local\\programs\\python\\python311\\lib\\site-packages (from pandas!=1.4.0,<3.0,>1.1->ydata-profiling) (2024.1)\n",
      "Requirement already satisfied: tzdata>=2022.1 in c:\\users\\joyri\\appdata\\local\\programs\\python\\python311\\lib\\site-packages (from pandas!=1.4.0,<3.0,>1.1->ydata-profiling) (2023.3)\n",
      "Requirement already satisfied: joblib>=0.14.1 in c:\\users\\joyri\\appdata\\local\\programs\\python\\python311\\lib\\site-packages (from phik<0.13,>=0.11.1->ydata-profiling) (1.4.2)\n",
      "Requirement already satisfied: charset-normalizer<4,>=2 in c:\\users\\joyri\\appdata\\local\\programs\\python\\python311\\lib\\site-packages (from requests<3,>=2.24.0->ydata-profiling) (2.1.1)\n",
      "Requirement already satisfied: idna<4,>=2.5 in c:\\users\\joyri\\appdata\\local\\programs\\python\\python311\\lib\\site-packages (from requests<3,>=2.24.0->ydata-profiling) (3.10)\n",
      "Requirement already satisfied: urllib3<3,>=1.21.1 in c:\\users\\joyri\\appdata\\local\\programs\\python\\python311\\lib\\site-packages (from requests<3,>=2.24.0->ydata-profiling) (1.26.18)\n",
      "Requirement already satisfied: certifi>=2017.4.17 in c:\\users\\joyri\\appdata\\local\\programs\\python\\python311\\lib\\site-packages (from requests<3,>=2.24.0->ydata-profiling) (2023.7.22)\n",
      "Collecting patsy>=0.5.6 (from statsmodels<1,>=0.13.2->ydata-profiling)\n",
      "  Downloading patsy-1.0.1-py2.py3-none-any.whl.metadata (3.3 kB)\n",
      "Requirement already satisfied: colorama in c:\\users\\joyri\\appdata\\local\\programs\\python\\python311\\lib\\site-packages (from tqdm<5,>=4.48.2->ydata-profiling) (0.4.6)\n",
      "Collecting typing_extensions>=4.14.0 (from typeguard<5,>=3->ydata-profiling)\n",
      "  Downloading typing_extensions-4.15.0-py3-none-any.whl.metadata (3.3 kB)\n",
      "Requirement already satisfied: attrs>=19.3.0 in c:\\users\\joyri\\appdata\\local\\programs\\python\\python311\\lib\\site-packages (from visions<0.8.2,>=0.7.5->visions[type_image_path]<0.8.2,>=0.7.5->ydata-profiling) (24.3.0)\n",
      "Requirement already satisfied: networkx>=2.4 in c:\\users\\joyri\\appdata\\local\\programs\\python\\python311\\lib\\site-packages (from visions<0.8.2,>=0.7.5->visions[type_image_path]<0.8.2,>=0.7.5->ydata-profiling) (3.4.2)\n",
      "Collecting puremagic (from visions<0.8.2,>=0.7.5->visions[type_image_path]<0.8.2,>=0.7.5->ydata-profiling)\n",
      "  Downloading puremagic-1.30-py3-none-any.whl.metadata (5.8 kB)\n",
      "Requirement already satisfied: annotated-types>=0.6.0 in c:\\users\\joyri\\appdata\\local\\programs\\python\\python311\\lib\\site-packages (from pydantic>=2->ydata-profiling) (0.7.0)\n",
      "Requirement already satisfied: pydantic-core==2.27.2 in c:\\users\\joyri\\appdata\\local\\programs\\python\\python311\\lib\\site-packages (from pydantic>=2->ydata-profiling) (2.27.2)\n",
      "Requirement already satisfied: six>=1.5 in c:\\users\\joyri\\appdata\\local\\programs\\python\\python311\\lib\\site-packages (from python-dateutil>=2.7->matplotlib<=3.10,>=3.5->ydata-profiling) (1.16.0)\n",
      "Downloading ydata_profiling-4.17.0-py2.py3-none-any.whl (399 kB)\n",
      "Downloading ImageHash-4.3.1-py2.py3-none-any.whl (296 kB)\n",
      "Downloading multimethod-1.12-py3-none-any.whl (10 kB)\n",
      "Downloading numba-0.61.0-cp311-cp311-win_amd64.whl (2.8 MB)\n",
      "   ---------------------------------------- 0.0/2.8 MB ? eta -:--:--\n",
      "   ------------------ --------------------- 1.3/2.8 MB 6.1 MB/s eta 0:00:01\n",
      "   ---------------------------------------- 2.8/2.8 MB 6.8 MB/s eta 0:00:00\n",
      "Downloading llvmlite-0.44.0-cp311-cp311-win_amd64.whl (30.3 MB)\n",
      "   ---------------------------------------- 0.0/30.3 MB ? eta -:--:--\n",
      "   -- ------------------------------------- 1.8/30.3 MB 8.4 MB/s eta 0:00:04\n",
      "   ----- ---------------------------------- 4.2/30.3 MB 9.7 MB/s eta 0:00:03\n",
      "   ------- -------------------------------- 5.5/30.3 MB 7.8 MB/s eta 0:00:04\n",
      "   -------- ------------------------------- 6.3/30.3 MB 8.0 MB/s eta 0:00:03\n",
      "   -------- ------------------------------- 6.3/30.3 MB 8.0 MB/s eta 0:00:03\n",
      "   -------- ------------------------------- 6.3/30.3 MB 8.0 MB/s eta 0:00:03\n",
      "   -------- ------------------------------- 6.3/30.3 MB 8.0 MB/s eta 0:00:03\n",
      "   -------- ------------------------------- 6.3/30.3 MB 8.0 MB/s eta 0:00:03\n",
      "   --------- ------------------------------ 7.3/30.3 MB 3.8 MB/s eta 0:00:07\n",
      "   --------- ------------------------------ 7.3/30.3 MB 3.8 MB/s eta 0:00:07\n",
      "   --------- ------------------------------ 7.3/30.3 MB 3.8 MB/s eta 0:00:07\n",
      "   --------- ------------------------------ 7.3/30.3 MB 3.8 MB/s eta 0:00:07\n",
      "   --------- ------------------------------ 7.3/30.3 MB 3.8 MB/s eta 0:00:07\n",
      "   --------- ------------------------------ 7.3/30.3 MB 3.8 MB/s eta 0:00:07\n",
      "   --------- ------------------------------ 7.3/30.3 MB 3.8 MB/s eta 0:00:07\n",
      "   --------- ------------------------------ 7.3/30.3 MB 3.8 MB/s eta 0:00:07\n",
      "   --------- ------------------------------ 7.3/30.3 MB 3.8 MB/s eta 0:00:07\n",
      "   ---------- ----------------------------- 7.6/30.3 MB 1.9 MB/s eta 0:00:13\n",
      "   ------------- -------------------------- 10.0/30.3 MB 2.3 MB/s eta 0:00:09\n",
      "   ---------------- ----------------------- 12.3/30.3 MB 2.8 MB/s eta 0:00:07\n",
      "   ----------------- ---------------------- 13.1/30.3 MB 2.8 MB/s eta 0:00:07\n",
      "   ------------------- -------------------- 14.7/30.3 MB 3.0 MB/s eta 0:00:06\n",
      "   ---------------------- ----------------- 16.8/30.3 MB 3.3 MB/s eta 0:00:05\n",
      "   ------------------------ --------------- 18.6/30.3 MB 3.5 MB/s eta 0:00:04\n",
      "   -------------------------- ------------- 20.2/30.3 MB 3.6 MB/s eta 0:00:03\n",
      "   ----------------------------- ---------- 22.0/30.3 MB 3.9 MB/s eta 0:00:03\n",
      "   -------------------------------- ------- 24.4/30.3 MB 4.1 MB/s eta 0:00:02\n",
      "   ---------------------------------- ----- 26.2/30.3 MB 4.3 MB/s eta 0:00:01\n",
      "   ---------------------------------- ----- 26.5/30.3 MB 4.2 MB/s eta 0:00:01\n",
      "   -------------------------------------- - 28.8/30.3 MB 4.4 MB/s eta 0:00:01\n",
      "   ---------------------------------------  30.1/30.3 MB 4.5 MB/s eta 0:00:01\n",
      "   ---------------------------------------- 30.3/30.3 MB 4.4 MB/s eta 0:00:00\n",
      "Downloading phik-0.12.5-cp311-cp311-win_amd64.whl (675 kB)\n",
      "   ---------------------------------------- 0.0/675.0 kB ? eta -:--:--\n",
      "   --------------------------------------- 675.0/675.0 kB 13.3 MB/s eta 0:00:00\n",
      "Downloading statsmodels-0.14.5-cp311-cp311-win_amd64.whl (9.6 MB)\n",
      "   ---------------------------------------- 0.0/9.6 MB ? eta -:--:--\n",
      "   --------- ------------------------------ 2.4/9.6 MB 12.2 MB/s eta 0:00:01\n",
      "   ------------------- -------------------- 4.7/9.6 MB 11.4 MB/s eta 0:00:01\n",
      "   ------------------------------ --------- 7.3/9.6 MB 11.9 MB/s eta 0:00:01\n",
      "   ---------------------------------------  9.4/9.6 MB 11.7 MB/s eta 0:00:01\n",
      "   ---------------------------------------- 9.6/9.6 MB 11.3 MB/s eta 0:00:00\n",
      "Downloading typeguard-4.4.4-py3-none-any.whl (34 kB)\n",
      "Downloading visions-0.8.1-py3-none-any.whl (105 kB)\n",
      "Downloading dacite-1.9.2-py3-none-any.whl (16 kB)\n",
      "Downloading filetype-1.2.0-py2.py3-none-any.whl (19 kB)\n",
      "Downloading minify_html-0.16.4-cp311-cp311-win_amd64.whl (2.4 MB)\n",
      "   ---------------------------------------- 0.0/2.4 MB ? eta -:--:--\n",
      "   ---------------------------------- ----- 2.1/2.4 MB 9.8 MB/s eta 0:00:01\n",
      "   ---------------------------------------- 2.4/2.4 MB 9.3 MB/s eta 0:00:00\n",
      "Downloading patsy-1.0.1-py2.py3-none-any.whl (232 kB)\n",
      "Downloading typing_extensions-4.15.0-py3-none-any.whl (44 kB)\n",
      "Downloading wordcloud-1.9.4-cp311-cp311-win_amd64.whl (299 kB)\n",
      "Downloading puremagic-1.30-py3-none-any.whl (43 kB)\n",
      "Downloading pywavelets-1.9.0-cp311-cp311-win_amd64.whl (4.2 MB)\n",
      "   ---------------------------------------- 0.0/4.2 MB ? eta -:--:--\n",
      "   ------------------------ --------------- 2.6/4.2 MB 12.6 MB/s eta 0:00:01\n",
      "   ---------------------------------------- 4.2/4.2 MB 11.6 MB/s eta 0:00:00\n",
      "Installing collected packages: puremagic, minify-html, filetype, typing_extensions, PyWavelets, patsy, multimethod, llvmlite, dacite, typeguard, numba, imagehash, wordcloud, visions, statsmodels, phik, ydata-profiling\n",
      "\n",
      "   -- -------------------------------------  1/17 [minify-html]\n",
      "   ---- -----------------------------------  2/17 [filetype]\n",
      "   ---- -----------------------------------  2/17 [filetype]\n",
      "   ---- -----------------------------------  2/17 [filetype]\n",
      "   ---- -----------------------------------  2/17 [filetype]\n",
      "  Attempting uninstall: typing_extensions\n",
      "   ---- -----------------------------------  2/17 [filetype]\n",
      "    Found existing installation: typing_extensions 4.12.2\n",
      "   ---- -----------------------------------  2/17 [filetype]\n",
      "    Uninstalling typing_extensions-4.12.2:\n",
      "   ---- -----------------------------------  2/17 [filetype]\n",
      "   ------- --------------------------------  3/17 [typing_extensions]\n",
      "   ------- --------------------------------  3/17 [typing_extensions]\n",
      "   ------- --------------------------------  3/17 [typing_extensions]\n",
      "   ------- --------------------------------  3/17 [typing_extensions]\n",
      "   ------- --------------------------------  3/17 [typing_extensions]\n",
      "   ------- --------------------------------  3/17 [typing_extensions]\n",
      "   ------- --------------------------------  3/17 [typing_extensions]\n",
      "   ------- --------------------------------  3/17 [typing_extensions]\n",
      "   ------- --------------------------------  3/17 [typing_extensions]\n",
      "   ------- --------------------------------  3/17 [typing_extensions]\n",
      "   ------- --------------------------------  3/17 [typing_extensions]\n",
      "   ------- --------------------------------  3/17 [typing_extensions]\n",
      "   ------- --------------------------------  3/17 [typing_extensions]\n",
      "   ------- --------------------------------  3/17 [typing_extensions]\n",
      "   ------- --------------------------------  3/17 [typing_extensions]\n",
      "   ------- --------------------------------  3/17 [typing_extensions]\n",
      "   ------- --------------------------------  3/17 [typing_extensions]\n",
      "   ------- --------------------------------  3/17 [typing_extensions]\n",
      "   ------- --------------------------------  3/17 [typing_extensions]\n",
      "   ------- --------------------------------  3/17 [typing_extensions]\n",
      "   ------- --------------------------------  3/17 [typing_extensions]\n",
      "   ------- --------------------------------  3/17 [typing_extensions]\n",
      "   ------- --------------------------------  3/17 [typing_extensions]\n",
      "   ------- --------------------------------  3/17 [typing_extensions]\n",
      "   ------- --------------------------------  3/17 [typing_extensions]\n",
      "   ------- --------------------------------  3/17 [typing_extensions]\n",
      "   ------- --------------------------------  3/17 [typing_extensions]\n",
      "   ------- --------------------------------  3/17 [typing_extensions]\n",
      "   ------- --------------------------------  3/17 [typing_extensions]\n",
      "   ------- --------------------------------  3/17 [typing_extensions]\n",
      "   ------- --------------------------------  3/17 [typing_extensions]\n",
      "   ------- --------------------------------  3/17 [typing_extensions]\n",
      "   ------- --------------------------------  3/17 [typing_extensions]\n",
      "   ------- --------------------------------  3/17 [typing_extensions]\n",
      "   ------- --------------------------------  3/17 [typing_extensions]\n",
      "   ------- --------------------------------  3/17 [typing_extensions]\n",
      "   ------- --------------------------------  3/17 [typing_extensions]\n",
      "   ------- --------------------------------  3/17 [typing_extensions]\n",
      "   ------- --------------------------------  3/17 [typing_extensions]\n",
      "   ------- --------------------------------  3/17 [typing_extensions]\n",
      "   ------- --------------------------------  3/17 [typing_extensions]\n",
      "   ------- --------------------------------  3/17 [typing_extensions]\n",
      "   ------- --------------------------------  3/17 [typing_extensions]\n",
      "   ------- --------------------------------  3/17 [typing_extensions]\n",
      "   ------- --------------------------------  3/17 [typing_extensions]\n",
      "   ------- --------------------------------  3/17 [typing_extensions]\n",
      "   ------- --------------------------------  3/17 [typing_extensions]\n",
      "   ------- --------------------------------  3/17 [typing_extensions]\n",
      "   ------- --------------------------------  3/17 [typing_extensions]\n",
      "   ------- --------------------------------  3/17 [typing_extensions]\n",
      "   ------- --------------------------------  3/17 [typing_extensions]\n",
      "   ------- --------------------------------  3/17 [typing_extensions]\n",
      "   ------- --------------------------------  3/17 [typing_extensions]\n",
      "   ------- --------------------------------  3/17 [typing_extensions]\n",
      "   ------- --------------------------------  3/17 [typing_extensions]\n",
      "   ------- --------------------------------  3/17 [typing_extensions]\n",
      "   ------- --------------------------------  3/17 [typing_extensions]\n",
      "   ------- --------------------------------  3/17 [typing_extensions]\n",
      "   ------- --------------------------------  3/17 [typing_extensions]\n",
      "   ------- --------------------------------  3/17 [typing_extensions]\n",
      "   ------- --------------------------------  3/17 [typing_extensions]\n",
      "   ------- --------------------------------  3/17 [typing_extensions]\n",
      "   ------- --------------------------------  3/17 [typing_extensions]\n",
      "   ------- --------------------------------  3/17 [typing_extensions]\n",
      "   ------- --------------------------------  3/17 [typing_extensions]\n",
      "   ------- --------------------------------  3/17 [typing_extensions]\n",
      "   ------- --------------------------------  3/17 [typing_extensions]\n",
      "   ------- --------------------------------  3/17 [typing_extensions]\n",
      "   ------- --------------------------------  3/17 [typing_extensions]\n",
      "   ------- --------------------------------  3/17 [typing_extensions]\n",
      "   ------- --------------------------------  3/17 [typing_extensions]\n",
      "   ------- --------------------------------  3/17 [typing_extensions]\n",
      "   ------- --------------------------------  3/17 [typing_extensions]\n",
      "   ------- --------------------------------  3/17 [typing_extensions]\n",
      "   ------- --------------------------------  3/17 [typing_extensions]\n",
      "   ------- --------------------------------  3/17 [typing_extensions]\n",
      "   ------- --------------------------------  3/17 [typing_extensions]\n",
      "      Successfully uninstalled typing_extensions-4.12.2\n",
      "   ------- --------------------------------  3/17 [typing_extensions]\n",
      "   ------- --------------------------------  3/17 [typing_extensions]\n",
      "   --------- ------------------------------  4/17 [PyWavelets]\n",
      "   --------- ------------------------------  4/17 [PyWavelets]\n",
      "   --------- ------------------------------  4/17 [PyWavelets]\n",
      "   --------- ------------------------------  4/17 [PyWavelets]\n",
      "   --------- ------------------------------  4/17 [PyWavelets]\n",
      "   --------- ------------------------------  4/17 [PyWavelets]\n",
      "   --------- ------------------------------  4/17 [PyWavelets]\n",
      "   ----------- ----------------------------  5/17 [patsy]\n",
      "   ----------- ----------------------------  5/17 [patsy]\n",
      "   ----------- ----------------------------  5/17 [patsy]\n",
      "   ----------- ----------------------------  5/17 [patsy]\n",
      "   ----------- ----------------------------  5/17 [patsy]\n",
      "   -------------- -------------------------  6/17 [multimethod]\n",
      "   ---------------- -----------------------  7/17 [llvmlite]\n",
      "   ---------------- -----------------------  7/17 [llvmlite]\n",
      "   ---------------- -----------------------  7/17 [llvmlite]\n",
      "   ---------------- -----------------------  7/17 [llvmlite]\n",
      "   ---------------- -----------------------  7/17 [llvmlite]\n",
      "   ---------------- -----------------------  7/17 [llvmlite]\n",
      "   ---------------- -----------------------  7/17 [llvmlite]\n",
      "   ---------------- -----------------------  7/17 [llvmlite]\n",
      "   ---------------- -----------------------  7/17 [llvmlite]\n",
      "   ---------------- -----------------------  7/17 [llvmlite]\n",
      "   ------------------ ---------------------  8/17 [dacite]\n",
      "   ------------------ ---------------------  8/17 [dacite]\n",
      "   --------------------- ------------------  9/17 [typeguard]\n",
      "   --------------------- ------------------  9/17 [typeguard]\n",
      "   ----------------------- ---------------- 10/17 [numba]\n",
      "   ----------------------- ---------------- 10/17 [numba]\n",
      "   ----------------------- ---------------- 10/17 [numba]\n",
      "   ----------------------- ---------------- 10/17 [numba]\n",
      "   ----------------------- ---------------- 10/17 [numba]\n",
      "   ----------------------- ---------------- 10/17 [numba]\n",
      "   ----------------------- ---------------- 10/17 [numba]\n",
      "   ----------------------- ---------------- 10/17 [numba]\n",
      "   ----------------------- ---------------- 10/17 [numba]\n",
      "   ----------------------- ---------------- 10/17 [numba]\n",
      "   ----------------------- ---------------- 10/17 [numba]\n",
      "   ----------------------- ---------------- 10/17 [numba]\n",
      "   ----------------------- ---------------- 10/17 [numba]\n",
      "   ----------------------- ---------------- 10/17 [numba]\n",
      "   ----------------------- ---------------- 10/17 [numba]\n",
      "   ----------------------- ---------------- 10/17 [numba]\n",
      "   ----------------------- ---------------- 10/17 [numba]\n",
      "   ----------------------- ---------------- 10/17 [numba]\n",
      "   ----------------------- ---------------- 10/17 [numba]\n",
      "   ----------------------- ---------------- 10/17 [numba]\n",
      "   ----------------------- ---------------- 10/17 [numba]\n",
      "   ----------------------- ---------------- 10/17 [numba]\n",
      "   ----------------------- ---------------- 10/17 [numba]\n",
      "   ----------------------- ---------------- 10/17 [numba]\n",
      "   ----------------------- ---------------- 10/17 [numba]\n",
      "   ----------------------- ---------------- 10/17 [numba]\n",
      "   ----------------------- ---------------- 10/17 [numba]\n",
      "   ----------------------- ---------------- 10/17 [numba]\n",
      "   ----------------------- ---------------- 10/17 [numba]\n",
      "   ----------------------- ---------------- 10/17 [numba]\n",
      "   ----------------------- ---------------- 10/17 [numba]\n",
      "   ----------------------- ---------------- 10/17 [numba]\n",
      "   ----------------------- ---------------- 10/17 [numba]\n",
      "   ----------------------- ---------------- 10/17 [numba]\n",
      "   ----------------------- ---------------- 10/17 [numba]\n",
      "   ----------------------- ---------------- 10/17 [numba]\n",
      "   ----------------------- ---------------- 10/17 [numba]\n",
      "   ----------------------- ---------------- 10/17 [numba]\n",
      "   ----------------------- ---------------- 10/17 [numba]\n",
      "   ----------------------- ---------------- 10/17 [numba]\n",
      "   ----------------------- ---------------- 10/17 [numba]\n",
      "   ----------------------- ---------------- 10/17 [numba]\n",
      "   ----------------------- ---------------- 10/17 [numba]\n",
      "   ----------------------- ---------------- 10/17 [numba]\n",
      "   ----------------------- ---------------- 10/17 [numba]\n",
      "   ----------------------- ---------------- 10/17 [numba]\n",
      "   ----------------------- ---------------- 10/17 [numba]\n",
      "   ----------------------- ---------------- 10/17 [numba]\n",
      "   ----------------------- ---------------- 10/17 [numba]\n",
      "   ----------------------- ---------------- 10/17 [numba]\n",
      "   ----------------------- ---------------- 10/17 [numba]\n",
      "   ----------------------- ---------------- 10/17 [numba]\n",
      "   ----------------------- ---------------- 10/17 [numba]\n",
      "   ----------------------- ---------------- 10/17 [numba]\n",
      "   ----------------------- ---------------- 10/17 [numba]\n",
      "   ----------------------- ---------------- 10/17 [numba]\n",
      "   ----------------------- ---------------- 10/17 [numba]\n",
      "   ----------------------- ---------------- 10/17 [numba]\n",
      "   ----------------------- ---------------- 10/17 [numba]\n",
      "   ----------------------- ---------------- 10/17 [numba]\n",
      "   ----------------------- ---------------- 10/17 [numba]\n",
      "   ----------------------- ---------------- 10/17 [numba]\n",
      "   ----------------------- ---------------- 10/17 [numba]\n",
      "   ----------------------- ---------------- 10/17 [numba]\n",
      "   ----------------------- ---------------- 10/17 [numba]\n",
      "   ----------------------- ---------------- 10/17 [numba]\n",
      "   ----------------------- ---------------- 10/17 [numba]\n",
      "   ----------------------- ---------------- 10/17 [numba]\n",
      "   ----------------------- ---------------- 10/17 [numba]\n",
      "   ----------------------- ---------------- 10/17 [numba]\n",
      "   ----------------------- ---------------- 10/17 [numba]\n",
      "   ----------------------- ---------------- 10/17 [numba]\n",
      "   ----------------------- ---------------- 10/17 [numba]\n",
      "   ----------------------- ---------------- 10/17 [numba]\n",
      "   ----------------------- ---------------- 10/17 [numba]\n",
      "   ----------------------- ---------------- 10/17 [numba]\n",
      "   ----------------------- ---------------- 10/17 [numba]\n",
      "   ----------------------- ---------------- 10/17 [numba]\n",
      "   ----------------------- ---------------- 10/17 [numba]\n",
      "   ----------------------- ---------------- 10/17 [numba]\n",
      "   ----------------------- ---------------- 10/17 [numba]\n",
      "   ----------------------- ---------------- 10/17 [numba]\n",
      "   ----------------------- ---------------- 10/17 [numba]\n",
      "   ----------------------- ---------------- 10/17 [numba]\n",
      "   ----------------------- ---------------- 10/17 [numba]\n",
      "   ----------------------- ---------------- 10/17 [numba]\n",
      "   ----------------------- ---------------- 10/17 [numba]\n",
      "   ----------------------- ---------------- 10/17 [numba]\n",
      "   ----------------------- ---------------- 10/17 [numba]\n",
      "   ----------------------- ---------------- 10/17 [numba]\n",
      "   ----------------------- ---------------- 10/17 [numba]\n",
      "   ----------------------- ---------------- 10/17 [numba]\n",
      "   ----------------------- ---------------- 10/17 [numba]\n",
      "   ----------------------- ---------------- 10/17 [numba]\n",
      "   ----------------------- ---------------- 10/17 [numba]\n",
      "   ----------------------- ---------------- 10/17 [numba]\n",
      "   ----------------------- ---------------- 10/17 [numba]\n",
      "   ----------------------- ---------------- 10/17 [numba]\n",
      "   ----------------------- ---------------- 10/17 [numba]\n",
      "   ----------------------- ---------------- 10/17 [numba]\n",
      "   ----------------------- ---------------- 10/17 [numba]\n",
      "   ----------------------- ---------------- 10/17 [numba]\n",
      "   ----------------------- ---------------- 10/17 [numba]\n",
      "   ----------------------- ---------------- 10/17 [numba]\n",
      "   ----------------------- ---------------- 10/17 [numba]\n",
      "   ----------------------- ---------------- 10/17 [numba]\n",
      "   ----------------------- ---------------- 10/17 [numba]\n",
      "   ----------------------- ---------------- 10/17 [numba]\n",
      "   ----------------------- ---------------- 10/17 [numba]\n",
      "   ----------------------- ---------------- 10/17 [numba]\n",
      "   ----------------------- ---------------- 10/17 [numba]\n",
      "   ----------------------- ---------------- 10/17 [numba]\n",
      "   ----------------------- ---------------- 10/17 [numba]\n",
      "   ----------------------- ---------------- 10/17 [numba]\n",
      "   ----------------------- ---------------- 10/17 [numba]\n",
      "   ----------------------- ---------------- 10/17 [numba]\n",
      "   ----------------------- ---------------- 10/17 [numba]\n",
      "   ----------------------- ---------------- 10/17 [numba]\n",
      "   ----------------------- ---------------- 10/17 [numba]\n",
      "   ----------------------- ---------------- 10/17 [numba]\n",
      "   ----------------------- ---------------- 10/17 [numba]\n",
      "   ----------------------- ---------------- 10/17 [numba]\n",
      "   ----------------------- ---------------- 10/17 [numba]\n",
      "   ----------------------- ---------------- 10/17 [numba]\n",
      "   ----------------------- ---------------- 10/17 [numba]\n",
      "   ----------------------- ---------------- 10/17 [numba]\n",
      "   ----------------------- ---------------- 10/17 [numba]\n",
      "   ----------------------- ---------------- 10/17 [numba]\n",
      "   ----------------------- ---------------- 10/17 [numba]\n",
      "   ----------------------- ---------------- 10/17 [numba]\n",
      "   ----------------------- ---------------- 10/17 [numba]\n",
      "   ----------------------- ---------------- 10/17 [numba]\n",
      "   ----------------------- ---------------- 10/17 [numba]\n",
      "   ----------------------- ---------------- 10/17 [numba]\n",
      "   ----------------------- ---------------- 10/17 [numba]\n",
      "   ----------------------- ---------------- 10/17 [numba]\n",
      "   ----------------------- ---------------- 10/17 [numba]\n",
      "   ----------------------- ---------------- 10/17 [numba]\n",
      "   ----------------------- ---------------- 10/17 [numba]\n",
      "   ----------------------- ---------------- 10/17 [numba]\n",
      "   ----------------------- ---------------- 10/17 [numba]\n",
      "   ----------------------- ---------------- 10/17 [numba]\n",
      "   ----------------------- ---------------- 10/17 [numba]\n",
      "   ----------------------- ---------------- 10/17 [numba]\n",
      "   ----------------------- ---------------- 10/17 [numba]\n",
      "   ------------------------- -------------- 11/17 [imagehash]\n",
      "   ---------------------------- ----------- 12/17 [wordcloud]\n",
      "   ---------------------------- ----------- 12/17 [wordcloud]\n",
      "   ---------------------------- ----------- 12/17 [wordcloud]\n",
      "   ---------------------------- ----------- 12/17 [wordcloud]\n",
      "   ------------------------------ --------- 13/17 [visions]\n",
      "   ------------------------------ --------- 13/17 [visions]\n",
      "   ------------------------------ --------- 13/17 [visions]\n",
      "   ------------------------------ --------- 13/17 [visions]\n",
      "   ------------------------------ --------- 13/17 [visions]\n",
      "   ------------------------------ --------- 13/17 [visions]\n",
      "   ------------------------------ --------- 13/17 [visions]\n",
      "   ------------------------------ --------- 13/17 [visions]\n",
      "   ------------------------------ --------- 13/17 [visions]\n",
      "   ------------------------------ --------- 13/17 [visions]\n",
      "   ------------------------------ --------- 13/17 [visions]\n",
      "   ------------------------------ --------- 13/17 [visions]\n",
      "   ------------------------------ --------- 13/17 [visions]\n",
      "   ------------------------------ --------- 13/17 [visions]\n",
      "   ------------------------------ --------- 13/17 [visions]\n",
      "   ------------------------------ --------- 13/17 [visions]\n",
      "   ------------------------------ --------- 13/17 [visions]\n",
      "   ------------------------------ --------- 13/17 [visions]\n",
      "   ------------------------------ --------- 13/17 [visions]\n",
      "   -------------------------------- ------- 14/17 [statsmodels]\n",
      "   -------------------------------- ------- 14/17 [statsmodels]\n",
      "   -------------------------------- ------- 14/17 [statsmodels]\n",
      "   -------------------------------- ------- 14/17 [statsmodels]\n",
      "   -------------------------------- ------- 14/17 [statsmodels]\n",
      "   -------------------------------- ------- 14/17 [statsmodels]\n",
      "   -------------------------------- ------- 14/17 [statsmodels]\n",
      "   -------------------------------- ------- 14/17 [statsmodels]\n",
      "   -------------------------------- ------- 14/17 [statsmodels]\n",
      "   -------------------------------- ------- 14/17 [statsmodels]\n",
      "   -------------------------------- ------- 14/17 [statsmodels]\n",
      "   -------------------------------- ------- 14/17 [statsmodels]\n",
      "   -------------------------------- ------- 14/17 [statsmodels]\n",
      "   -------------------------------- ------- 14/17 [statsmodels]\n",
      "   -------------------------------- ------- 14/17 [statsmodels]\n",
      "   -------------------------------- ------- 14/17 [statsmodels]\n",
      "   -------------------------------- ------- 14/17 [statsmodels]\n",
      "   -------------------------------- ------- 14/17 [statsmodels]\n",
      "   -------------------------------- ------- 14/17 [statsmodels]\n",
      "   -------------------------------- ------- 14/17 [statsmodels]\n",
      "   -------------------------------- ------- 14/17 [statsmodels]\n",
      "   -------------------------------- ------- 14/17 [statsmodels]\n",
      "   -------------------------------- ------- 14/17 [statsmodels]\n",
      "   -------------------------------- ------- 14/17 [statsmodels]\n",
      "   -------------------------------- ------- 14/17 [statsmodels]\n",
      "   -------------------------------- ------- 14/17 [statsmodels]\n",
      "   -------------------------------- ------- 14/17 [statsmodels]\n",
      "   -------------------------------- ------- 14/17 [statsmodels]\n",
      "   -------------------------------- ------- 14/17 [statsmodels]\n",
      "   -------------------------------- ------- 14/17 [statsmodels]\n",
      "   -------------------------------- ------- 14/17 [statsmodels]\n",
      "   -------------------------------- ------- 14/17 [statsmodels]\n",
      "   -------------------------------- ------- 14/17 [statsmodels]\n",
      "   -------------------------------- ------- 14/17 [statsmodels]\n",
      "   -------------------------------- ------- 14/17 [statsmodels]\n",
      "   -------------------------------- ------- 14/17 [statsmodels]\n",
      "   -------------------------------- ------- 14/17 [statsmodels]\n",
      "   -------------------------------- ------- 14/17 [statsmodels]\n",
      "   -------------------------------- ------- 14/17 [statsmodels]\n",
      "   -------------------------------- ------- 14/17 [statsmodels]\n",
      "   -------------------------------- ------- 14/17 [statsmodels]\n",
      "   -------------------------------- ------- 14/17 [statsmodels]\n",
      "   -------------------------------- ------- 14/17 [statsmodels]\n",
      "   -------------------------------- ------- 14/17 [statsmodels]\n",
      "   -------------------------------- ------- 14/17 [statsmodels]\n",
      "   -------------------------------- ------- 14/17 [statsmodels]\n",
      "   -------------------------------- ------- 14/17 [statsmodels]\n",
      "   -------------------------------- ------- 14/17 [statsmodels]\n",
      "   -------------------------------- ------- 14/17 [statsmodels]\n",
      "   -------------------------------- ------- 14/17 [statsmodels]\n",
      "   -------------------------------- ------- 14/17 [statsmodels]\n",
      "   -------------------------------- ------- 14/17 [statsmodels]\n",
      "   -------------------------------- ------- 14/17 [statsmodels]\n",
      "   -------------------------------- ------- 14/17 [statsmodels]\n",
      "   -------------------------------- ------- 14/17 [statsmodels]\n",
      "   -------------------------------- ------- 14/17 [statsmodels]\n",
      "   -------------------------------- ------- 14/17 [statsmodels]\n",
      "   -------------------------------- ------- 14/17 [statsmodels]\n",
      "   -------------------------------- ------- 14/17 [statsmodels]\n",
      "   -------------------------------- ------- 14/17 [statsmodels]\n",
      "   -------------------------------- ------- 14/17 [statsmodels]\n",
      "   -------------------------------- ------- 14/17 [statsmodels]\n",
      "   -------------------------------- ------- 14/17 [statsmodels]\n",
      "   -------------------------------- ------- 14/17 [statsmodels]\n",
      "   -------------------------------- ------- 14/17 [statsmodels]\n",
      "   -------------------------------- ------- 14/17 [statsmodels]\n",
      "   -------------------------------- ------- 14/17 [statsmodels]\n",
      "   -------------------------------- ------- 14/17 [statsmodels]\n",
      "   -------------------------------- ------- 14/17 [statsmodels]\n",
      "   -------------------------------- ------- 14/17 [statsmodels]\n",
      "   -------------------------------- ------- 14/17 [statsmodels]\n",
      "   -------------------------------- ------- 14/17 [statsmodels]\n",
      "   -------------------------------- ------- 14/17 [statsmodels]\n",
      "   -------------------------------- ------- 14/17 [statsmodels]\n",
      "   -------------------------------- ------- 14/17 [statsmodels]\n",
      "   -------------------------------- ------- 14/17 [statsmodels]\n",
      "   -------------------------------- ------- 14/17 [statsmodels]\n",
      "   -------------------------------- ------- 14/17 [statsmodels]\n",
      "   -------------------------------- ------- 14/17 [statsmodels]\n",
      "   -------------------------------- ------- 14/17 [statsmodels]\n",
      "   -------------------------------- ------- 14/17 [statsmodels]\n",
      "   -------------------------------- ------- 14/17 [statsmodels]\n",
      "   -------------------------------- ------- 14/17 [statsmodels]\n",
      "   -------------------------------- ------- 14/17 [statsmodels]\n",
      "   -------------------------------- ------- 14/17 [statsmodels]\n",
      "   -------------------------------- ------- 14/17 [statsmodels]\n",
      "   -------------------------------- ------- 14/17 [statsmodels]\n",
      "   -------------------------------- ------- 14/17 [statsmodels]\n",
      "   -------------------------------- ------- 14/17 [statsmodels]\n",
      "   -------------------------------- ------- 14/17 [statsmodels]\n",
      "   -------------------------------- ------- 14/17 [statsmodels]\n",
      "   -------------------------------- ------- 14/17 [statsmodels]\n",
      "   -------------------------------- ------- 14/17 [statsmodels]\n",
      "   -------------------------------- ------- 14/17 [statsmodels]\n",
      "   -------------------------------- ------- 14/17 [statsmodels]\n",
      "   -------------------------------- ------- 14/17 [statsmodels]\n",
      "   -------------------------------- ------- 14/17 [statsmodels]\n",
      "   -------------------------------- ------- 14/17 [statsmodels]\n",
      "   -------------------------------- ------- 14/17 [statsmodels]\n",
      "   -------------------------------- ------- 14/17 [statsmodels]\n",
      "   -------------------------------- ------- 14/17 [statsmodels]\n",
      "   -------------------------------- ------- 14/17 [statsmodels]\n",
      "   -------------------------------- ------- 14/17 [statsmodels]\n",
      "   -------------------------------- ------- 14/17 [statsmodels]\n",
      "   -------------------------------- ------- 14/17 [statsmodels]\n",
      "   -------------------------------- ------- 14/17 [statsmodels]\n",
      "   -------------------------------- ------- 14/17 [statsmodels]\n",
      "   -------------------------------- ------- 14/17 [statsmodels]\n",
      "   -------------------------------- ------- 14/17 [statsmodels]\n",
      "   -------------------------------- ------- 14/17 [statsmodels]\n",
      "   -------------------------------- ------- 14/17 [statsmodels]\n",
      "   -------------------------------- ------- 14/17 [statsmodels]\n",
      "   -------------------------------- ------- 14/17 [statsmodels]\n",
      "   -------------------------------- ------- 14/17 [statsmodels]\n",
      "   -------------------------------- ------- 14/17 [statsmodels]\n",
      "   -------------------------------- ------- 14/17 [statsmodels]\n",
      "   -------------------------------- ------- 14/17 [statsmodels]\n",
      "   -------------------------------- ------- 14/17 [statsmodels]\n",
      "   -------------------------------- ------- 14/17 [statsmodels]\n",
      "   -------------------------------- ------- 14/17 [statsmodels]\n",
      "   -------------------------------- ------- 14/17 [statsmodels]\n",
      "   -------------------------------- ------- 14/17 [statsmodels]\n",
      "   -------------------------------- ------- 14/17 [statsmodels]\n",
      "   -------------------------------- ------- 14/17 [statsmodels]\n",
      "   -------------------------------- ------- 14/17 [statsmodels]\n",
      "   -------------------------------- ------- 14/17 [statsmodels]\n",
      "   -------------------------------- ------- 14/17 [statsmodels]\n",
      "   -------------------------------- ------- 14/17 [statsmodels]\n",
      "   -------------------------------- ------- 14/17 [statsmodels]\n",
      "   -------------------------------- ------- 14/17 [statsmodels]\n",
      "   -------------------------------- ------- 14/17 [statsmodels]\n",
      "   -------------------------------- ------- 14/17 [statsmodels]\n",
      "   -------------------------------- ------- 14/17 [statsmodels]\n",
      "   -------------------------------- ------- 14/17 [statsmodels]\n",
      "   -------------------------------- ------- 14/17 [statsmodels]\n",
      "   -------------------------------- ------- 14/17 [statsmodels]\n",
      "   -------------------------------- ------- 14/17 [statsmodels]\n",
      "   -------------------------------- ------- 14/17 [statsmodels]\n",
      "   -------------------------------- ------- 14/17 [statsmodels]\n",
      "   -------------------------------- ------- 14/17 [statsmodels]\n",
      "   -------------------------------- ------- 14/17 [statsmodels]\n",
      "   -------------------------------- ------- 14/17 [statsmodels]\n",
      "   -------------------------------- ------- 14/17 [statsmodels]\n",
      "   -------------------------------- ------- 14/17 [statsmodels]\n",
      "   -------------------------------- ------- 14/17 [statsmodels]\n",
      "   -------------------------------- ------- 14/17 [statsmodels]\n",
      "   -------------------------------- ------- 14/17 [statsmodels]\n",
      "   -------------------------------- ------- 14/17 [statsmodels]\n",
      "   -------------------------------- ------- 14/17 [statsmodels]\n",
      "   -------------------------------- ------- 14/17 [statsmodels]\n",
      "   -------------------------------- ------- 14/17 [statsmodels]\n",
      "   -------------------------------- ------- 14/17 [statsmodels]\n",
      "   ----------------------------------- ---- 15/17 [phik]\n",
      "   ----------------------------------- ---- 15/17 [phik]\n",
      "   ----------------------------------- ---- 15/17 [phik]\n",
      "   ------------------------------------- -- 16/17 [ydata-profiling]\n",
      "   ------------------------------------- -- 16/17 [ydata-profiling]\n",
      "   ------------------------------------- -- 16/17 [ydata-profiling]\n",
      "   ------------------------------------- -- 16/17 [ydata-profiling]\n",
      "   ------------------------------------- -- 16/17 [ydata-profiling]\n",
      "   ------------------------------------- -- 16/17 [ydata-profiling]\n",
      "   ------------------------------------- -- 16/17 [ydata-profiling]\n",
      "   ------------------------------------- -- 16/17 [ydata-profiling]\n",
      "   ------------------------------------- -- 16/17 [ydata-profiling]\n",
      "   ------------------------------------- -- 16/17 [ydata-profiling]\n",
      "   ------------------------------------- -- 16/17 [ydata-profiling]\n",
      "   ------------------------------------- -- 16/17 [ydata-profiling]\n",
      "   ------------------------------------- -- 16/17 [ydata-profiling]\n",
      "   ------------------------------------- -- 16/17 [ydata-profiling]\n",
      "   ------------------------------------- -- 16/17 [ydata-profiling]\n",
      "   ------------------------------------- -- 16/17 [ydata-profiling]\n",
      "   ------------------------------------- -- 16/17 [ydata-profiling]\n",
      "   ------------------------------------- -- 16/17 [ydata-profiling]\n",
      "   ------------------------------------- -- 16/17 [ydata-profiling]\n",
      "   ------------------------------------- -- 16/17 [ydata-profiling]\n",
      "   ------------------------------------- -- 16/17 [ydata-profiling]\n",
      "   ------------------------------------- -- 16/17 [ydata-profiling]\n",
      "   ------------------------------------- -- 16/17 [ydata-profiling]\n",
      "   ------------------------------------- -- 16/17 [ydata-profiling]\n",
      "   ---------------------------------------- 17/17 [ydata-profiling]\n",
      "\n",
      "Successfully installed PyWavelets-1.9.0 dacite-1.9.2 filetype-1.2.0 imagehash-4.3.1 llvmlite-0.44.0 minify-html-0.16.4 multimethod-1.12 numba-0.61.0 patsy-1.0.1 phik-0.12.5 puremagic-1.30 statsmodels-0.14.5 typeguard-4.4.4 typing_extensions-4.15.0 visions-0.8.1 wordcloud-1.9.4 ydata-profiling-4.17.0\n"
     ]
    },
    {
     "name": "stderr",
     "output_type": "stream",
     "text": [
      "ERROR: pip's dependency resolver does not currently take into account all the packages that are installed. This behaviour is the source of the following dependency conflicts.\n",
      "apache-airflow-providers-sqlite 4.0.0 requires apache-airflow>=2.9.0, which is not installed.\n",
      "tensorflow-intel 2.18.0 requires protobuf!=4.21.0,!=4.21.1,!=4.21.2,!=4.21.3,!=4.21.4,!=4.21.5,<6.0.0dev,>=3.20.3, but you have protobuf 3.20.2 which is incompatible.\n",
      "\n",
      "[notice] A new release of pip is available: 25.1.1 -> 25.2\n",
      "[notice] To update, run: python.exe -m pip install --upgrade pip\n"
     ]
    }
   ],
   "source": [
    "!pip install ydata-profiling"
   ]
  },
  {
   "cell_type": "code",
   "execution_count": null,
   "metadata": {
    "executionInfo": {
     "elapsed": 51335,
     "status": "ok",
     "timestamp": 1759120281509,
     "user": {
      "displayName": "JOYCE XAVIER",
      "userId": "11065201053352527535"
     },
     "user_tz": 180
    },
    "id": "ziL7I6R27wIG"
   },
   "outputs": [],
   "source": [
    "# # Puxa o csv\n",
    "# df_behavior_position = pd.read_csv(\"/content/drive/MyDrive/replay_curve/outputs_replay_sleep/consolidated_behavior_position.csv\", low_memory=False)\n",
    "# df_behavior_speed = pd.read_csv(\"/content/drive/MyDrive/replay_curve/outputs_replay_sleep/consolidated_behavior_speed.csv\", low_memory=False)\n",
    "# df_epochs = pd.read_csv(\"/content/drive/MyDrive/replay_curve/outputs_replay_sleep/consolidated_epochs.csv\", low_memory=False)\n",
    "# df_units = pd.read_csv(\"/content/drive/MyDrive/replay_curve/outputs_replay_sleep/consolidated_units.csv\", low_memory=False)\n",
    "# df_spike_times = pd.read_csv(\"/content/drive/MyDrive/replay_curve/outputs_replay_sleep/consolidated_spike_times.csv\", low_memory=False)\n",
    "\n"
   ]
  },
  {
   "cell_type": "code",
   "execution_count": 23,
   "metadata": {},
   "outputs": [],
   "source": [
    "# Lendo os CSVs\n",
    "df_behavior_position = pd.read_csv(\n",
    "    \"outputs_replay_sleep/consolidated_behavior_position.csv\",\n",
    "    low_memory=False\n",
    ")\n",
    "\n",
    "df_behavior_speed = pd.read_csv(\n",
    "    \"outputs_replay_sleep/consolidated_behavior_speed.csv\",\n",
    "    low_memory=False\n",
    ")\n",
    "\n",
    "df_epochs = pd.read_csv(\n",
    "    \"outputs_replay_sleep/consolidated_epochs.csv\",\n",
    "    low_memory=False\n",
    ")\n",
    "\n",
    "df_units = pd.read_csv(\n",
    "    \"outputs_replay_sleep/consolidated_units.csv\",\n",
    "    low_memory=False\n",
    ")\n",
    "\n",
    "df_spike_times = pd.read_csv(\n",
    "    \"outputs_replay_sleep/consolidated_spike_times.csv\",\n",
    "    low_memory=False\n",
    ")"
   ]
  },
  {
   "cell_type": "code",
   "execution_count": 24,
   "metadata": {
    "colab": {
     "base_uri": "https://localhost:8080/"
    },
    "executionInfo": {
     "elapsed": 56,
     "status": "ok",
     "timestamp": 1759120281606,
     "user": {
      "displayName": "JOYCE XAVIER",
      "userId": "11065201053352527535"
     },
     "user_tz": 180
    },
    "id": "crx-4D78DWeA",
    "outputId": "bd83ff09-8470-4fbf-9408-9c402dad5e00"
   },
   "outputs": [
    {
     "name": "stdout",
     "output_type": "stream",
     "text": [
      "(14472702, 6)\n",
      "(14472702, 4)\n",
      "(7, 9)\n",
      "(15155, 8)\n",
      "(15155, 3)\n"
     ]
    }
   ],
   "source": [
    "print(df_behavior_position.shape)\n",
    "print(df_behavior_speed.shape)\n",
    "print(df_epochs.shape)\n",
    "print(df_units.shape)\n",
    "print(df_spike_times.shape)"
   ]
  },
  {
   "cell_type": "code",
   "execution_count": 25,
   "metadata": {
    "colab": {
     "base_uri": "https://localhost:8080/"
    },
    "executionInfo": {
     "elapsed": 45,
     "status": "ok",
     "timestamp": 1759120281607,
     "user": {
      "displayName": "JOYCE XAVIER",
      "userId": "11065201053352527535"
     },
     "user_tz": 180
    },
    "id": "a7XAw96EDXx0",
    "outputId": "133ece5f-1cc3-4d6b-a408-2d0c8f3f2470"
   },
   "outputs": [
    {
     "name": "stdout",
     "output_type": "stream",
     "text": [
      "Index(['source_file', 'timestamp', 'animal_position_data_dim0',\n",
      "       'animal_position_data_dim1', 'animal_position_data_dim2',\n",
      "       'head_direction_data_dim0'],\n",
      "      dtype='object')\n",
      "Index(['source_file', 'timestamp', 'head_yaw_speed_data',\n",
      "       'movement_speed_data'],\n",
      "      dtype='object')\n",
      "Index(['source_file', 'id', 'start_time', 'stop_time', 'task', 'arena',\n",
      "       'arena_geometry', 'arena_dimensions', 'light_level'],\n",
      "      dtype='object')\n",
      "Index(['source_file', 'id', 'sampling_rate', 'cluster_quality', 'spike_times',\n",
      "       'electrodes', 'electrode_group', 'waveform_mean'],\n",
      "      dtype='object')\n",
      "Index(['source_file', 'unit_id', 'spike_time'], dtype='object')\n"
     ]
    }
   ],
   "source": [
    "print(df_behavior_position.columns)\n",
    "print(df_behavior_speed.columns)\n",
    "print(df_epochs.columns)\n",
    "print(df_units.columns)\n",
    "print(df_spike_times.columns)"
   ]
  },
  {
   "cell_type": "code",
   "execution_count": 26,
   "metadata": {
    "colab": {
     "base_uri": "https://localhost:8080/",
     "height": 201
    },
    "executionInfo": {
     "elapsed": 10,
     "status": "ok",
     "timestamp": 1759120281611,
     "user": {
      "displayName": "JOYCE XAVIER",
      "userId": "11065201053352527535"
     },
     "user_tz": 180
    },
    "id": "xc3gTPn6DbI6",
    "outputId": "5c53c036-aa5c-4dda-f11f-34624fe1206b"
   },
   "outputs": [
    {
     "data": {
      "text/html": [
       "<div>\n",
       "<style scoped>\n",
       "    .dataframe tbody tr th:only-of-type {\n",
       "        vertical-align: middle;\n",
       "    }\n",
       "\n",
       "    .dataframe tbody tr th {\n",
       "        vertical-align: top;\n",
       "    }\n",
       "\n",
       "    .dataframe thead th {\n",
       "        text-align: right;\n",
       "    }\n",
       "</style>\n",
       "<table border=\"1\" class=\"dataframe\">\n",
       "  <thead>\n",
       "    <tr style=\"text-align: right;\">\n",
       "      <th></th>\n",
       "      <th>source_file</th>\n",
       "      <th>timestamp</th>\n",
       "      <th>animal_position_data_dim0</th>\n",
       "      <th>animal_position_data_dim1</th>\n",
       "      <th>animal_position_data_dim2</th>\n",
       "      <th>head_direction_data_dim0</th>\n",
       "    </tr>\n",
       "  </thead>\n",
       "  <tbody>\n",
       "    <tr>\n",
       "      <th>0</th>\n",
       "      <td>27284_2021-Jun-16_08-24-12</td>\n",
       "      <td>74.002446</td>\n",
       "      <td>-33.746044</td>\n",
       "      <td>-20.55085</td>\n",
       "      <td>-3.512803</td>\n",
       "      <td>NaN</td>\n",
       "    </tr>\n",
       "    <tr>\n",
       "      <th>1</th>\n",
       "      <td>27284_2021-Jun-16_08-24-12</td>\n",
       "      <td>74.010688</td>\n",
       "      <td>-33.722675</td>\n",
       "      <td>-20.60195</td>\n",
       "      <td>-3.475338</td>\n",
       "      <td>NaN</td>\n",
       "    </tr>\n",
       "  </tbody>\n",
       "</table>\n",
       "</div>"
      ],
      "text/plain": [
       "                  source_file  timestamp  animal_position_data_dim0   \n",
       "0  27284_2021-Jun-16_08-24-12  74.002446                 -33.746044  \\\n",
       "1  27284_2021-Jun-16_08-24-12  74.010688                 -33.722675   \n",
       "\n",
       "   animal_position_data_dim1  animal_position_data_dim2   \n",
       "0                  -20.55085                  -3.512803  \\\n",
       "1                  -20.60195                  -3.475338   \n",
       "\n",
       "   head_direction_data_dim0  \n",
       "0                       NaN  \n",
       "1                       NaN  "
      ]
     },
     "execution_count": 26,
     "metadata": {},
     "output_type": "execute_result"
    }
   ],
   "source": [
    "df_behavior_position.head(2)"
   ]
  },
  {
   "cell_type": "code",
   "execution_count": 27,
   "metadata": {
    "colab": {
     "base_uri": "https://localhost:8080/",
     "height": 112
    },
    "executionInfo": {
     "elapsed": 27,
     "status": "ok",
     "timestamp": 1759120281639,
     "user": {
      "displayName": "JOYCE XAVIER",
      "userId": "11065201053352527535"
     },
     "user_tz": 180
    },
    "id": "7uKn9bkcErzA",
    "outputId": "b7bedfeb-3c0e-4d04-c8d7-d08ffbb90808"
   },
   "outputs": [
    {
     "data": {
      "text/html": [
       "<div>\n",
       "<style scoped>\n",
       "    .dataframe tbody tr th:only-of-type {\n",
       "        vertical-align: middle;\n",
       "    }\n",
       "\n",
       "    .dataframe tbody tr th {\n",
       "        vertical-align: top;\n",
       "    }\n",
       "\n",
       "    .dataframe thead th {\n",
       "        text-align: right;\n",
       "    }\n",
       "</style>\n",
       "<table border=\"1\" class=\"dataframe\">\n",
       "  <thead>\n",
       "    <tr style=\"text-align: right;\">\n",
       "      <th></th>\n",
       "      <th>source_file</th>\n",
       "      <th>timestamp</th>\n",
       "      <th>head_yaw_speed_data</th>\n",
       "      <th>movement_speed_data</th>\n",
       "    </tr>\n",
       "  </thead>\n",
       "  <tbody>\n",
       "    <tr>\n",
       "      <th>0</th>\n",
       "      <td>27284_2021-Jun-16_08-24-12</td>\n",
       "      <td>74.002446</td>\n",
       "      <td>NaN</td>\n",
       "      <td>NaN</td>\n",
       "    </tr>\n",
       "    <tr>\n",
       "      <th>1</th>\n",
       "      <td>27284_2021-Jun-16_08-24-12</td>\n",
       "      <td>74.010688</td>\n",
       "      <td>NaN</td>\n",
       "      <td>NaN</td>\n",
       "    </tr>\n",
       "  </tbody>\n",
       "</table>\n",
       "</div>"
      ],
      "text/plain": [
       "                  source_file  timestamp  head_yaw_speed_data   \n",
       "0  27284_2021-Jun-16_08-24-12  74.002446                  NaN  \\\n",
       "1  27284_2021-Jun-16_08-24-12  74.010688                  NaN   \n",
       "\n",
       "   movement_speed_data  \n",
       "0                  NaN  \n",
       "1                  NaN  "
      ]
     },
     "execution_count": 27,
     "metadata": {},
     "output_type": "execute_result"
    }
   ],
   "source": [
    "df_behavior_speed.head(2)\n"
   ]
  },
  {
   "cell_type": "code",
   "execution_count": 28,
   "metadata": {
    "colab": {
     "base_uri": "https://localhost:8080/",
     "height": 201
    },
    "executionInfo": {
     "elapsed": 5,
     "status": "ok",
     "timestamp": 1759120281646,
     "user": {
      "displayName": "JOYCE XAVIER",
      "userId": "11065201053352527535"
     },
     "user_tz": 180
    },
    "id": "6yet9IVMEuT_",
    "outputId": "c095d6c7-cf9c-41a6-bc26-9d8db2292cb1"
   },
   "outputs": [
    {
     "data": {
      "text/html": [
       "<div>\n",
       "<style scoped>\n",
       "    .dataframe tbody tr th:only-of-type {\n",
       "        vertical-align: middle;\n",
       "    }\n",
       "\n",
       "    .dataframe tbody tr th {\n",
       "        vertical-align: top;\n",
       "    }\n",
       "\n",
       "    .dataframe thead th {\n",
       "        text-align: right;\n",
       "    }\n",
       "</style>\n",
       "<table border=\"1\" class=\"dataframe\">\n",
       "  <thead>\n",
       "    <tr style=\"text-align: right;\">\n",
       "      <th></th>\n",
       "      <th>source_file</th>\n",
       "      <th>id</th>\n",
       "      <th>start_time</th>\n",
       "      <th>stop_time</th>\n",
       "      <th>task</th>\n",
       "      <th>arena</th>\n",
       "      <th>arena_geometry</th>\n",
       "      <th>arena_dimensions</th>\n",
       "      <th>light_level</th>\n",
       "    </tr>\n",
       "  </thead>\n",
       "  <tbody>\n",
       "    <tr>\n",
       "      <th>0</th>\n",
       "      <td>27284_2021-Jun-16_08-24-12</td>\n",
       "      <td>0</td>\n",
       "      <td>74.0</td>\n",
       "      <td>9974.0</td>\n",
       "      <td>Natural sleep</td>\n",
       "      <td>sleep_box</td>\n",
       "      <td>square</td>\n",
       "      <td>[40. 40. 80.]</td>\n",
       "      <td>bright</td>\n",
       "    </tr>\n",
       "    <tr>\n",
       "      <th>1</th>\n",
       "      <td>27963_2022-Feb-09_08-02-57</td>\n",
       "      <td>0</td>\n",
       "      <td>67.0</td>\n",
       "      <td>6417.0</td>\n",
       "      <td>Natural sleep</td>\n",
       "      <td>sleep_box</td>\n",
       "      <td>square</td>\n",
       "      <td>[40. 40. 80.]</td>\n",
       "      <td>bright</td>\n",
       "    </tr>\n",
       "  </tbody>\n",
       "</table>\n",
       "</div>"
      ],
      "text/plain": [
       "                  source_file  id  start_time  stop_time           task   \n",
       "0  27284_2021-Jun-16_08-24-12   0        74.0     9974.0  Natural sleep  \\\n",
       "1  27963_2022-Feb-09_08-02-57   0        67.0     6417.0  Natural sleep   \n",
       "\n",
       "       arena arena_geometry arena_dimensions light_level  \n",
       "0  sleep_box         square    [40. 40. 80.]      bright  \n",
       "1  sleep_box         square    [40. 40. 80.]      bright  "
      ]
     },
     "execution_count": 28,
     "metadata": {},
     "output_type": "execute_result"
    }
   ],
   "source": [
    "df_epochs.head(2)"
   ]
  },
  {
   "cell_type": "code",
   "execution_count": 29,
   "metadata": {
    "colab": {
     "base_uri": "https://localhost:8080/",
     "height": 236
    },
    "executionInfo": {
     "elapsed": 133,
     "status": "ok",
     "timestamp": 1759120281784,
     "user": {
      "displayName": "JOYCE XAVIER",
      "userId": "11065201053352527535"
     },
     "user_tz": 180
    },
    "id": "Czi1PwsDEvmD",
    "outputId": "4ebe6b9e-9e38-42b4-a19c-38f2c8032345"
   },
   "outputs": [
    {
     "data": {
      "text/html": [
       "<div>\n",
       "<style scoped>\n",
       "    .dataframe tbody tr th:only-of-type {\n",
       "        vertical-align: middle;\n",
       "    }\n",
       "\n",
       "    .dataframe tbody tr th {\n",
       "        vertical-align: top;\n",
       "    }\n",
       "\n",
       "    .dataframe thead th {\n",
       "        text-align: right;\n",
       "    }\n",
       "</style>\n",
       "<table border=\"1\" class=\"dataframe\">\n",
       "  <thead>\n",
       "    <tr style=\"text-align: right;\">\n",
       "      <th></th>\n",
       "      <th>source_file</th>\n",
       "      <th>id</th>\n",
       "      <th>sampling_rate</th>\n",
       "      <th>cluster_quality</th>\n",
       "      <th>spike_times</th>\n",
       "      <th>electrodes</th>\n",
       "      <th>electrode_group</th>\n",
       "      <th>waveform_mean</th>\n",
       "    </tr>\n",
       "  </thead>\n",
       "  <tbody>\n",
       "    <tr>\n",
       "      <th>0</th>\n",
       "      <td>27284_2021-Jun-16_08-24-12</td>\n",
       "      <td>0</td>\n",
       "      <td>30000.0</td>\n",
       "      <td>mua</td>\n",
       "      <td>[  74.009        74.02566667   74.09686667 ......</td>\n",
       "      <td>Empty DataFrame\\nColumns: [location, group, gr...</td>\n",
       "      <td>probe_1 - 0-95; 1280-1375; 2560-2655; 3840-393...</td>\n",
       "      <td>[nan nan nan nan nan nan nan nan nan nan nan n...</td>\n",
       "    </tr>\n",
       "    <tr>\n",
       "      <th>1</th>\n",
       "      <td>27284_2021-Jun-16_08-24-12</td>\n",
       "      <td>1</td>\n",
       "      <td>30000.0</td>\n",
       "      <td>mua</td>\n",
       "      <td>[  75.9183       75.98246667   76.36596667 ......</td>\n",
       "      <td>Empty DataFrame\\nColumns: [location, group, gr...</td>\n",
       "      <td>probe_1 - 0-95; 1280-1375; 2560-2655; 3840-393...</td>\n",
       "      <td>[nan nan nan nan nan nan nan nan nan nan nan n...</td>\n",
       "    </tr>\n",
       "  </tbody>\n",
       "</table>\n",
       "</div>"
      ],
      "text/plain": [
       "                  source_file  id  sampling_rate cluster_quality   \n",
       "0  27284_2021-Jun-16_08-24-12   0        30000.0             mua  \\\n",
       "1  27284_2021-Jun-16_08-24-12   1        30000.0             mua   \n",
       "\n",
       "                                         spike_times   \n",
       "0  [  74.009        74.02566667   74.09686667 ......  \\\n",
       "1  [  75.9183       75.98246667   76.36596667 ......   \n",
       "\n",
       "                                          electrodes   \n",
       "0  Empty DataFrame\\nColumns: [location, group, gr...  \\\n",
       "1  Empty DataFrame\\nColumns: [location, group, gr...   \n",
       "\n",
       "                                     electrode_group   \n",
       "0  probe_1 - 0-95; 1280-1375; 2560-2655; 3840-393...  \\\n",
       "1  probe_1 - 0-95; 1280-1375; 2560-2655; 3840-393...   \n",
       "\n",
       "                                       waveform_mean  \n",
       "0  [nan nan nan nan nan nan nan nan nan nan nan n...  \n",
       "1  [nan nan nan nan nan nan nan nan nan nan nan n...  "
      ]
     },
     "execution_count": 29,
     "metadata": {},
     "output_type": "execute_result"
    }
   ],
   "source": [
    "df_units.head(2)"
   ]
  },
  {
   "cell_type": "code",
   "execution_count": 30,
   "metadata": {
    "colab": {
     "base_uri": "https://localhost:8080/",
     "height": 112
    },
    "executionInfo": {
     "elapsed": 36,
     "status": "ok",
     "timestamp": 1759120281823,
     "user": {
      "displayName": "JOYCE XAVIER",
      "userId": "11065201053352527535"
     },
     "user_tz": 180
    },
    "id": "MWrrYaCpEw8G",
    "outputId": "c81fdf79-cbf5-46a0-e3c4-422d7a84c529"
   },
   "outputs": [
    {
     "data": {
      "text/html": [
       "<div>\n",
       "<style scoped>\n",
       "    .dataframe tbody tr th:only-of-type {\n",
       "        vertical-align: middle;\n",
       "    }\n",
       "\n",
       "    .dataframe tbody tr th {\n",
       "        vertical-align: top;\n",
       "    }\n",
       "\n",
       "    .dataframe thead th {\n",
       "        text-align: right;\n",
       "    }\n",
       "</style>\n",
       "<table border=\"1\" class=\"dataframe\">\n",
       "  <thead>\n",
       "    <tr style=\"text-align: right;\">\n",
       "      <th></th>\n",
       "      <th>source_file</th>\n",
       "      <th>unit_id</th>\n",
       "      <th>spike_time</th>\n",
       "    </tr>\n",
       "  </thead>\n",
       "  <tbody>\n",
       "    <tr>\n",
       "      <th>0</th>\n",
       "      <td>27284_2021-Jun-16_08-24-12</td>\n",
       "      <td>0</td>\n",
       "      <td>28817</td>\n",
       "    </tr>\n",
       "    <tr>\n",
       "      <th>1</th>\n",
       "      <td>27284_2021-Jun-16_08-24-12</td>\n",
       "      <td>0</td>\n",
       "      <td>52973</td>\n",
       "    </tr>\n",
       "  </tbody>\n",
       "</table>\n",
       "</div>"
      ],
      "text/plain": [
       "                  source_file  unit_id  spike_time\n",
       "0  27284_2021-Jun-16_08-24-12        0       28817\n",
       "1  27284_2021-Jun-16_08-24-12        0       52973"
      ]
     },
     "execution_count": 30,
     "metadata": {},
     "output_type": "execute_result"
    }
   ],
   "source": [
    "df_spike_times.head(2)"
   ]
  },
  {
   "cell_type": "markdown",
   "metadata": {
    "id": "jwTRh8-jHIn3"
   },
   "source": [
    "### Documentação dos DataFrames\n",
    "\n",
    "#### 1. `df_behavior_position`\n",
    "Colunas:\n",
    "- **source_file** → Nome do arquivo `.nwb` de onde os dados foram extraídos. Identifica a sessão/animal.\n",
    "- **timestamp** → Tempo em segundos da gravação, alinhado entre posição e atividade neural.\n",
    "- **animal_position_data_dim0** → Coordenada *x* (horizontal) da posição do animal na arena.\n",
    "- **animal_position_data_dim1** → Coordenada *y* (vertical) da posição do animal.\n",
    "- **animal_position_data_dim2** → Coordenada *z* (altura). No estudo normalmente projetada em 2D, mas ainda registrada.\n",
    "- **head_direction_data_dim0** → Direção da cabeça do animal (em graus ou radianos), estimada a partir do tracking dos marcadores.\n",
    "\n",
    "Este DataFrame descreve **trajetória e orientação da cabeça** do animal no espaço físico durante a sessão.\n",
    "\n",
    "---\n",
    "\n",
    "#### 2. `df_behavior_speed`\n",
    "Colunas:\n",
    "- **source_file** → Arquivo `.nwb` de origem.\n",
    "- **timestamp** → Tempo em segundos.\n",
    "- **head_yaw_speed_data** → Velocidade angular da cabeça (variação na direção da cabeça).\n",
    "- **movement_speed_data** → Velocidade linear de deslocamento do animal (cm/s).\n",
    "\n",
    "Este DataFrame mostra **como o animal se move**: tanto a translação (andar/correr) quanto a rotação da cabeça. (não será usado)\n",
    "\n",
    "---\n",
    "\n",
    "#### 3. `df_epochs`\n",
    "Colunas:\n",
    "- **source_file** → Arquivo `.nwb` de origem.\n",
    "- **id** → Identificador único de cada epoch dentro do arquivo.\n",
    "- **start_time** → Tempo inicial do epoch (s).\n",
    "- **stop_time** → Tempo final do epoch (s).\n",
    "- **task** → Tipo de tarefa ou condição comportamental (ex.: *Foraging task*, *Natural sleep*, *Odor sequence task*, *Novel object task*).\n",
    "- **arena** → Identificação da arena experimental.\n",
    "- **arena_geometry** → Forma geométrica da arena (ex.: quadrada, circular, figura-8).\n",
    "- **arena_dimensions** → Dimensões da arena (ex.: 1m x 1m).\n",
    "- **light_level** → Condição de iluminação (ex.: luz fraca, normal, escuro).\n",
    "\n",
    "Este DataFrame descreve **as sessões experimentais** (períodos de sono, exploração, tarefas específicas).\n",
    "\n",
    "---\n",
    "\n",
    "#### 4. `df_units`\n",
    "Colunas:\n",
    "- **source_file** → Arquivo `.nwb` de origem.\n",
    "- **id** → Identificador do cluster de spikes (neurônio isolado).\n",
    "- **sampling_rate** → Taxa de amostragem usada na gravação desse cluster.\n",
    "- **cluster_quality** → Qualidade da clusterização do spike (ex.: *good*, *mua* [multi-unit activity]).\n",
    "- **spike_times** → Lista de tempos (s) em que os spikes desse neurônio ocorreram.\n",
    "- **electrodes** → Número(s) de eletrodo(s) que captaram essa unidade.\n",
    "- **electrode_group** → Grupo de eletrodos (ex.: qual região do probe Neuropixels).\n",
    "- **waveform_mean** → Forma de onda média do spike, útil para classificação e validação da unidade.\n",
    "\n",
    "Este DataFrame representa **metadados das unidades neuronais isoladas**.\n",
    "\n",
    "---\n",
    "\n",
    "#### 5. `df_spike_times`\n",
    "Colunas:\n",
    "- **source_file** → Arquivo `.nwb` de origem.\n",
    "- **unit_id** → Identificador do neurônio (corresponde ao `id` de `df_units`).\n",
    "- **spike_time** → Tempo (s) em que ocorreu um spike dessa unidade.\n",
    "\n",
    "Este DataFrame é a versão **longa** dos spikes: cada linha corresponde a um **único disparo neural**.\n",
    "\n",
    "---\n",
    "\n",
    "Em resumo:  \n",
    "- `df_behavior_position` e `df_behavior_speed` → comportamento (trajetória, velocidade, orientação).  \n",
    "- `df_epochs` → contexto experimental (sono, tarefas).  \n",
    "- `df_units` e `df_spike_times` → atividade neuronal (quais neurônios, quando dispararam, em quais condições).  \n"
   ]
  },
  {
   "cell_type": "markdown",
   "metadata": {
    "id": "x239aXVCIFZW"
   },
   "source": [
    "# Preparando Dados"
   ]
  },
  {
   "cell_type": "markdown",
   "metadata": {
    "id": "h8MJBLj3JTiH"
   },
   "source": [
    "## Behavior Position"
   ]
  },
  {
   "cell_type": "code",
   "execution_count": 31,
   "metadata": {
    "colab": {
     "base_uri": "https://localhost:8080/",
     "height": 112
    },
    "executionInfo": {
     "elapsed": 784,
     "status": "ok",
     "timestamp": 1759120282610,
     "user": {
      "displayName": "JOYCE XAVIER",
      "userId": "11065201053352527535"
     },
     "user_tz": 180
    },
    "id": "hSoSn0Z1JCuV",
    "outputId": "beba4e49-c887-4a74-b823-bb16d58e9968"
   },
   "outputs": [
    {
     "data": {
      "text/html": [
       "<div>\n",
       "<style scoped>\n",
       "    .dataframe tbody tr th:only-of-type {\n",
       "        vertical-align: middle;\n",
       "    }\n",
       "\n",
       "    .dataframe tbody tr th {\n",
       "        vertical-align: top;\n",
       "    }\n",
       "\n",
       "    .dataframe thead th {\n",
       "        text-align: right;\n",
       "    }\n",
       "</style>\n",
       "<table border=\"1\" class=\"dataframe\">\n",
       "  <thead>\n",
       "    <tr style=\"text-align: right;\">\n",
       "      <th></th>\n",
       "      <th>source_file</th>\n",
       "      <th>timestamp</th>\n",
       "      <th>x</th>\n",
       "      <th>y</th>\n",
       "    </tr>\n",
       "  </thead>\n",
       "  <tbody>\n",
       "    <tr>\n",
       "      <th>0</th>\n",
       "      <td>27284_2021-Jun-16_08-24-12</td>\n",
       "      <td>74.002446</td>\n",
       "      <td>-33.746044</td>\n",
       "      <td>-20.55085</td>\n",
       "    </tr>\n",
       "    <tr>\n",
       "      <th>1</th>\n",
       "      <td>27284_2021-Jun-16_08-24-12</td>\n",
       "      <td>74.010688</td>\n",
       "      <td>-33.722675</td>\n",
       "      <td>-20.60195</td>\n",
       "    </tr>\n",
       "  </tbody>\n",
       "</table>\n",
       "</div>"
      ],
      "text/plain": [
       "                  source_file  timestamp          x         y\n",
       "0  27284_2021-Jun-16_08-24-12  74.002446 -33.746044 -20.55085\n",
       "1  27284_2021-Jun-16_08-24-12  74.010688 -33.722675 -20.60195"
      ]
     },
     "execution_count": 31,
     "metadata": {},
     "output_type": "execute_result"
    }
   ],
   "source": [
    "use_cols = [\n",
    "    \"source_file\", \"timestamp\",\n",
    "    \"animal_position_data_dim0\", \"animal_position_data_dim1\"\n",
    "]\n",
    "df_pos = df_behavior_position[use_cols]\n",
    "df_pos = df_pos.rename(columns={\n",
    "    \"animal_position_data_dim0\": \"x\",\n",
    "    \"animal_position_data_dim1\": \"y\"\n",
    "})\n",
    "df_pos.head(2)"
   ]
  },
  {
   "cell_type": "code",
   "execution_count": 32,
   "metadata": {
    "colab": {
     "base_uri": "https://localhost:8080/",
     "height": 143
    },
    "executionInfo": {
     "elapsed": 617,
     "status": "ok",
     "timestamp": 1759120283231,
     "user": {
      "displayName": "JOYCE XAVIER",
      "userId": "11065201053352527535"
     },
     "user_tz": 180
    },
    "id": "nnCfMPT7KIFW",
    "outputId": "55df84e2-d51a-44d3-84bc-2d780273a1fd"
   },
   "outputs": [
    {
     "data": {
      "text/html": [
       "<div>\n",
       "<style scoped>\n",
       "    .dataframe tbody tr th:only-of-type {\n",
       "        vertical-align: middle;\n",
       "    }\n",
       "\n",
       "    .dataframe tbody tr th {\n",
       "        vertical-align: top;\n",
       "    }\n",
       "\n",
       "    .dataframe thead th {\n",
       "        text-align: right;\n",
       "    }\n",
       "</style>\n",
       "<table border=\"1\" class=\"dataframe\">\n",
       "  <thead>\n",
       "    <tr style=\"text-align: right;\">\n",
       "      <th></th>\n",
       "      <th>timestamp</th>\n",
       "      <th>x</th>\n",
       "      <th>y</th>\n",
       "    </tr>\n",
       "  </thead>\n",
       "  <tbody>\n",
       "    <tr>\n",
       "      <th>timestamp</th>\n",
       "      <td>1.000000</td>\n",
       "      <td>-0.216800</td>\n",
       "      <td>-0.087193</td>\n",
       "    </tr>\n",
       "    <tr>\n",
       "      <th>x</th>\n",
       "      <td>-0.216800</td>\n",
       "      <td>1.000000</td>\n",
       "      <td>-0.005774</td>\n",
       "    </tr>\n",
       "    <tr>\n",
       "      <th>y</th>\n",
       "      <td>-0.087193</td>\n",
       "      <td>-0.005774</td>\n",
       "      <td>1.000000</td>\n",
       "    </tr>\n",
       "  </tbody>\n",
       "</table>\n",
       "</div>"
      ],
      "text/plain": [
       "           timestamp         x         y\n",
       "timestamp   1.000000 -0.216800 -0.087193\n",
       "x          -0.216800  1.000000 -0.005774\n",
       "y          -0.087193 -0.005774  1.000000"
      ]
     },
     "execution_count": 32,
     "metadata": {},
     "output_type": "execute_result"
    }
   ],
   "source": [
    "# mostra correlação entre colunas numericas\n",
    "df_pos.select_dtypes(include=np.number).corr()"
   ]
  },
  {
   "cell_type": "markdown",
   "metadata": {
    "id": "Aa6LdtaPJOlx"
   },
   "source": [
    "carregamos o CSV bruto e ficamos só com tempo (timestamp) e posição XY (x, y). também guardamos source_file para sabermos de qual sessão veio cada linha."
   ]
  },
  {
   "cell_type": "code",
   "execution_count": 33,
   "metadata": {
    "colab": {
     "base_uri": "https://localhost:8080/",
     "height": 143
    },
    "executionInfo": {
     "elapsed": 27294,
     "status": "ok",
     "timestamp": 1759120310528,
     "user": {
      "displayName": "JOYCE XAVIER",
      "userId": "11065201053352527535"
     },
     "user_tz": 180
    },
    "id": "Pn7rn0T9JN4o",
    "outputId": "612f4ca0-fad5-4fff-8e6e-4b1134a89cdb"
   },
   "outputs": [
    {
     "data": {
      "text/html": [
       "<div>\n",
       "<style scoped>\n",
       "    .dataframe tbody tr th:only-of-type {\n",
       "        vertical-align: middle;\n",
       "    }\n",
       "\n",
       "    .dataframe tbody tr th {\n",
       "        vertical-align: top;\n",
       "    }\n",
       "\n",
       "    .dataframe thead th {\n",
       "        text-align: right;\n",
       "    }\n",
       "</style>\n",
       "<table border=\"1\" class=\"dataframe\">\n",
       "  <thead>\n",
       "    <tr style=\"text-align: right;\">\n",
       "      <th></th>\n",
       "      <th>source_file</th>\n",
       "      <th>timestamp</th>\n",
       "      <th>x</th>\n",
       "      <th>y</th>\n",
       "    </tr>\n",
       "  </thead>\n",
       "  <tbody>\n",
       "    <tr>\n",
       "      <th>0</th>\n",
       "      <td>27284_2021-Jun-16_08-24-12</td>\n",
       "      <td>74.002446</td>\n",
       "      <td>-33.746044</td>\n",
       "      <td>-20.55085</td>\n",
       "    </tr>\n",
       "    <tr>\n",
       "      <th>1</th>\n",
       "      <td>27284_2021-Jun-16_08-24-12</td>\n",
       "      <td>74.010688</td>\n",
       "      <td>-33.722675</td>\n",
       "      <td>-20.60195</td>\n",
       "    </tr>\n",
       "    <tr>\n",
       "      <th>2</th>\n",
       "      <td>27284_2021-Jun-16_08-24-12</td>\n",
       "      <td>74.018948</td>\n",
       "      <td>-33.665432</td>\n",
       "      <td>-20.68427</td>\n",
       "    </tr>\n",
       "  </tbody>\n",
       "</table>\n",
       "</div>"
      ],
      "text/plain": [
       "                  source_file  timestamp          x         y\n",
       "0  27284_2021-Jun-16_08-24-12  74.002446 -33.746044 -20.55085\n",
       "1  27284_2021-Jun-16_08-24-12  74.010688 -33.722675 -20.60195\n",
       "2  27284_2021-Jun-16_08-24-12  74.018948 -33.665432 -20.68427"
      ]
     },
     "execution_count": 33,
     "metadata": {},
     "output_type": "execute_result"
    }
   ],
   "source": [
    "# garante tipos corretos\n",
    "df_pos[\"timestamp\"] = pd.to_numeric(df_pos[\"timestamp\"], errors=\"coerce\")\n",
    "df_pos[\"x\"] = pd.to_numeric(df_pos[\"x\"], errors=\"coerce\")\n",
    "df_pos[\"y\"] = pd.to_numeric(df_pos[\"y\"], errors=\"coerce\")\n",
    "\n",
    "# remove linhas sem x/y/timestamp\n",
    "df_pos = df_pos.dropna(subset=[\"timestamp\", \"x\", \"y\"]).copy()\n",
    "\n",
    "# ordena por sessão e tempo\n",
    "df_pos = df_pos.sort_values([\"source_file\", \"timestamp\"]).reset_index(drop=True)\n",
    "\n",
    "# remove duplicatas exatas (se houver)\n",
    "df_pos = df_pos.drop_duplicates(subset=[\"source_file\", \"timestamp\", \"x\", \"y\"]).reset_index(drop=True)\n",
    "\n",
    "df_pos.head(3)\n"
   ]
  },
  {
   "cell_type": "markdown",
   "metadata": {
    "id": "Bk2hZktbKARZ"
   },
   "source": [
    "consertamos tipos numéricos, tiramos linhas vazias, ordenamos por tempo e removemos duplicatas. isso evita erros na hora de derivar velocidade."
   ]
  },
  {
   "cell_type": "code",
   "execution_count": 34,
   "metadata": {
    "colab": {
     "base_uri": "https://localhost:8080/",
     "height": 267
    },
    "executionInfo": {
     "elapsed": 2985,
     "status": "ok",
     "timestamp": 1759120313716,
     "user": {
      "displayName": "JOYCE XAVIER",
      "userId": "11065201053352527535"
     },
     "user_tz": 180
    },
    "id": "Og7Gd3CYKdgj",
    "outputId": "0cc169f9-d8e1-4487-abf7-000d34469fac"
   },
   "outputs": [
    {
     "data": {
      "text/html": [
       "<div>\n",
       "<style scoped>\n",
       "    .dataframe tbody tr th:only-of-type {\n",
       "        vertical-align: middle;\n",
       "    }\n",
       "\n",
       "    .dataframe tbody tr th {\n",
       "        vertical-align: top;\n",
       "    }\n",
       "\n",
       "    .dataframe thead th {\n",
       "        text-align: right;\n",
       "    }\n",
       "</style>\n",
       "<table border=\"1\" class=\"dataframe\">\n",
       "  <thead>\n",
       "    <tr style=\"text-align: right;\">\n",
       "      <th></th>\n",
       "      <th>source_file</th>\n",
       "      <th>timestamp</th>\n",
       "      <th>x</th>\n",
       "      <th>y</th>\n",
       "      <th>dx</th>\n",
       "      <th>dy</th>\n",
       "      <th>dt</th>\n",
       "      <th>speed_units_per_s</th>\n",
       "    </tr>\n",
       "  </thead>\n",
       "  <tbody>\n",
       "    <tr>\n",
       "      <th>0</th>\n",
       "      <td>27284_2021-Jun-16_08-24-12</td>\n",
       "      <td>74.002446</td>\n",
       "      <td>-33.746044</td>\n",
       "      <td>-20.55085</td>\n",
       "      <td>0.000000</td>\n",
       "      <td>0.00000</td>\n",
       "      <td>0.000000</td>\n",
       "      <td>0.000000</td>\n",
       "    </tr>\n",
       "    <tr>\n",
       "      <th>1</th>\n",
       "      <td>27284_2021-Jun-16_08-24-12</td>\n",
       "      <td>74.010688</td>\n",
       "      <td>-33.722675</td>\n",
       "      <td>-20.60195</td>\n",
       "      <td>0.023369</td>\n",
       "      <td>-0.05110</td>\n",
       "      <td>0.008242</td>\n",
       "      <td>0.618930</td>\n",
       "    </tr>\n",
       "    <tr>\n",
       "      <th>2</th>\n",
       "      <td>27284_2021-Jun-16_08-24-12</td>\n",
       "      <td>74.018948</td>\n",
       "      <td>-33.665432</td>\n",
       "      <td>-20.68427</td>\n",
       "      <td>0.057243</td>\n",
       "      <td>-0.08232</td>\n",
       "      <td>0.008260</td>\n",
       "      <td>1.103248</td>\n",
       "    </tr>\n",
       "  </tbody>\n",
       "</table>\n",
       "</div>"
      ],
      "text/plain": [
       "                  source_file  timestamp          x         y        dx   \n",
       "0  27284_2021-Jun-16_08-24-12  74.002446 -33.746044 -20.55085  0.000000  \\\n",
       "1  27284_2021-Jun-16_08-24-12  74.010688 -33.722675 -20.60195  0.023369   \n",
       "2  27284_2021-Jun-16_08-24-12  74.018948 -33.665432 -20.68427  0.057243   \n",
       "\n",
       "        dy        dt  speed_units_per_s  \n",
       "0  0.00000  0.000000           0.000000  \n",
       "1 -0.05110  0.008242           0.618930  \n",
       "2 -0.08232  0.008260           1.103248  "
      ]
     },
     "execution_count": 34,
     "metadata": {},
     "output_type": "execute_result"
    }
   ],
   "source": [
    "df_pos[\"dx\"] = df_pos.groupby(\"source_file\")[\"x\"].diff().fillna(0)\n",
    "df_pos[\"dy\"] = df_pos.groupby(\"source_file\")[\"y\"].diff().fillna(0)\n",
    "df_pos[\"dt\"] = df_pos.groupby(\"source_file\")[\"timestamp\"].diff().fillna(0)\n",
    "df_pos[\"speed_units_per_s\"] = np.sqrt((df_pos[\"dx\"]**2 + df_pos[\"dy\"]**2) / df_pos[\"dt\"]).fillna(0)\n",
    "\n",
    "df_pos.head(3)"
   ]
  },
  {
   "cell_type": "markdown",
   "metadata": {
    "id": "paW8zdvXP_Zf"
   },
   "source": [
    "Para cada sessão (source_file):\n",
    "- dx = x[t] - x[t-1]\n",
    "- dy = y[t] - y[t-1]\n",
    "\n",
    "- Distância = sqrt(dx²+dy²).\n",
    "- Velocidade ≈ distância / diferença de tempo (dt)."
   ]
  },
  {
   "cell_type": "code",
   "execution_count": 35,
   "metadata": {
    "colab": {
     "base_uri": "https://localhost:8080/",
     "height": 487
    },
    "executionInfo": {
     "elapsed": 841,
     "status": "ok",
     "timestamp": 1759120314563,
     "user": {
      "displayName": "JOYCE XAVIER",
      "userId": "11065201053352527535"
     },
     "user_tz": 180
    },
    "id": "CMlGiXbQRJ20",
    "outputId": "274756ff-a4c5-431a-e824-88a263cd8c3a"
   },
   "outputs": [
    {
     "data": {
      "image/png": "[encoded data removed]",
      "text/plain": [
       "<Figure size 800x500 with 1 Axes>"
      ]
     },
     "metadata": {},
     "output_type": "display_data"
    }
   ],
   "source": [
    "# Preparar os dados: tirar NaNs e infinitos\n",
    "speed = df_pos[\"speed_units_per_s\"].dropna()\n",
    "speed = speed[speed > 0]   # ignora zeros artificiais\n",
    "\n",
    "# Usa log pois a distribuição é muito distorcida\n",
    "use_log = True\n",
    "data = np.log10(speed) if use_log else speed\n",
    "\n",
    "# 3. Plotar histograma\n",
    "plt.figure(figsize=(8,5))\n",
    "plt.hist(data, bins=200, density=True, alpha=0.7, color=\"steelblue\")\n",
    "plt.xlabel(\"log10(Velocidade)\" if use_log else \"Velocidade (units/s)\")\n",
    "plt.ylabel(\"Densidade\")\n",
    "plt.title(\"Distribuição das velocidades\")\n",
    "plt.show()\n"
   ]
  },
  {
   "cell_type": "markdown",
   "metadata": {
    "id": "0ROoYE9tT-Pm"
   },
   "source": [
    "Vale entre os dois picos está em torno de **-1.3 a -1.0 em log₁₀**, ou seja:\n",
    "\n",
    "- \\(10^{-1.3} \\approx 0.05\\)  \n",
    "- \\(10^{-1.0} = 0.1\\)\n",
    "\n",
    "Então um bom **limiar inicial** para dizer se esta ou não imovel seria algo como **0.05 ou 0.07 units/s**.\n"
   ]
  },
  {
   "cell_type": "code",
   "execution_count": 36,
   "metadata": {
    "colab": {
     "base_uri": "https://localhost:8080/",
     "height": 267
    },
    "executionInfo": {
     "elapsed": 26,
     "status": "ok",
     "timestamp": 1759120314592,
     "user": {
      "displayName": "JOYCE XAVIER",
      "userId": "11065201053352527535"
     },
     "user_tz": 180
    },
    "id": "UvLm1YVOP9L-",
    "outputId": "af51ccf6-75ed-4f18-a117-186aa6951378"
   },
   "outputs": [
    {
     "data": {
      "text/html": [
       "<div>\n",
       "<style scoped>\n",
       "    .dataframe tbody tr th:only-of-type {\n",
       "        vertical-align: middle;\n",
       "    }\n",
       "\n",
       "    .dataframe tbody tr th {\n",
       "        vertical-align: top;\n",
       "    }\n",
       "\n",
       "    .dataframe thead th {\n",
       "        text-align: right;\n",
       "    }\n",
       "</style>\n",
       "<table border=\"1\" class=\"dataframe\">\n",
       "  <thead>\n",
       "    <tr style=\"text-align: right;\">\n",
       "      <th></th>\n",
       "      <th>source_file</th>\n",
       "      <th>timestamp</th>\n",
       "      <th>x</th>\n",
       "      <th>y</th>\n",
       "      <th>dx</th>\n",
       "      <th>dy</th>\n",
       "      <th>dt</th>\n",
       "      <th>speed_units_per_s</th>\n",
       "      <th>is_immobile</th>\n",
       "    </tr>\n",
       "  </thead>\n",
       "  <tbody>\n",
       "    <tr>\n",
       "      <th>0</th>\n",
       "      <td>27284_2021-Jun-16_08-24-12</td>\n",
       "      <td>74.002446</td>\n",
       "      <td>-33.746044</td>\n",
       "      <td>-20.55085</td>\n",
       "      <td>0.000000</td>\n",
       "      <td>0.00000</td>\n",
       "      <td>0.000000</td>\n",
       "      <td>0.000000</td>\n",
       "      <td>1</td>\n",
       "    </tr>\n",
       "    <tr>\n",
       "      <th>1</th>\n",
       "      <td>27284_2021-Jun-16_08-24-12</td>\n",
       "      <td>74.010688</td>\n",
       "      <td>-33.722675</td>\n",
       "      <td>-20.60195</td>\n",
       "      <td>0.023369</td>\n",
       "      <td>-0.05110</td>\n",
       "      <td>0.008242</td>\n",
       "      <td>0.618930</td>\n",
       "      <td>0</td>\n",
       "    </tr>\n",
       "    <tr>\n",
       "      <th>2</th>\n",
       "      <td>27284_2021-Jun-16_08-24-12</td>\n",
       "      <td>74.018948</td>\n",
       "      <td>-33.665432</td>\n",
       "      <td>-20.68427</td>\n",
       "      <td>0.057243</td>\n",
       "      <td>-0.08232</td>\n",
       "      <td>0.008260</td>\n",
       "      <td>1.103248</td>\n",
       "      <td>0</td>\n",
       "    </tr>\n",
       "  </tbody>\n",
       "</table>\n",
       "</div>"
      ],
      "text/plain": [
       "                  source_file  timestamp          x         y        dx   \n",
       "0  27284_2021-Jun-16_08-24-12  74.002446 -33.746044 -20.55085  0.000000  \\\n",
       "1  27284_2021-Jun-16_08-24-12  74.010688 -33.722675 -20.60195  0.023369   \n",
       "2  27284_2021-Jun-16_08-24-12  74.018948 -33.665432 -20.68427  0.057243   \n",
       "\n",
       "        dy        dt  speed_units_per_s  is_immobile  \n",
       "0  0.00000  0.000000           0.000000            1  \n",
       "1 -0.05110  0.008242           0.618930            0  \n",
       "2 -0.08232  0.008260           1.103248            0  "
      ]
     },
     "execution_count": 36,
     "metadata": {},
     "output_type": "execute_result"
    }
   ],
   "source": [
    "IMMOBILE_THRESHOLD = 0.5\n",
    "df_pos[\"is_immobile\"] = (df_pos[\"speed_units_per_s\"] <= IMMOBILE_THRESHOLD).astype(int)\n",
    "df_pos.head(3)\n"
   ]
  },
  {
   "cell_type": "code",
   "execution_count": 37,
   "metadata": {
    "colab": {
     "base_uri": "https://localhost:8080/",
     "height": 304
    },
    "executionInfo": {
     "elapsed": 4568,
     "status": "ok",
     "timestamp": 1759120319451,
     "user": {
      "displayName": "JOYCE XAVIER",
      "userId": "11065201053352527535"
     },
     "user_tz": 180
    },
    "id": "M9YSzgXNUUBf",
    "outputId": "cf62ee22-9908-43bb-c265-b8650c614de4"
   },
   "outputs": [
    {
     "data": {
      "text/html": [
       "<div>\n",
       "<style scoped>\n",
       "    .dataframe tbody tr th:only-of-type {\n",
       "        vertical-align: middle;\n",
       "    }\n",
       "\n",
       "    .dataframe tbody tr th {\n",
       "        vertical-align: top;\n",
       "    }\n",
       "\n",
       "    .dataframe thead th {\n",
       "        text-align: right;\n",
       "    }\n",
       "</style>\n",
       "<table border=\"1\" class=\"dataframe\">\n",
       "  <thead>\n",
       "    <tr style=\"text-align: right;\">\n",
       "      <th></th>\n",
       "      <th>source_file</th>\n",
       "      <th>timestamp</th>\n",
       "      <th>x</th>\n",
       "      <th>y</th>\n",
       "      <th>dx</th>\n",
       "      <th>dy</th>\n",
       "      <th>dt</th>\n",
       "      <th>speed_units_per_s</th>\n",
       "      <th>is_immobile</th>\n",
       "    </tr>\n",
       "  </thead>\n",
       "  <tbody>\n",
       "    <tr>\n",
       "      <th>0</th>\n",
       "      <td>27284_2021-Jun-16_08-24-12</td>\n",
       "      <td>74.010688</td>\n",
       "      <td>-33.722675</td>\n",
       "      <td>-20.601950</td>\n",
       "      <td>0.023369</td>\n",
       "      <td>-0.051100</td>\n",
       "      <td>0.008242</td>\n",
       "      <td>0.618930</td>\n",
       "      <td>0</td>\n",
       "    </tr>\n",
       "    <tr>\n",
       "      <th>1</th>\n",
       "      <td>27284_2021-Jun-16_08-24-12</td>\n",
       "      <td>74.018948</td>\n",
       "      <td>-33.665432</td>\n",
       "      <td>-20.684270</td>\n",
       "      <td>0.057243</td>\n",
       "      <td>-0.082320</td>\n",
       "      <td>0.008260</td>\n",
       "      <td>1.103248</td>\n",
       "      <td>0</td>\n",
       "    </tr>\n",
       "    <tr>\n",
       "      <th>2</th>\n",
       "      <td>27284_2021-Jun-16_08-24-12</td>\n",
       "      <td>74.027236</td>\n",
       "      <td>-33.604760</td>\n",
       "      <td>-20.739647</td>\n",
       "      <td>0.060672</td>\n",
       "      <td>-0.055377</td>\n",
       "      <td>0.008288</td>\n",
       "      <td>0.902313</td>\n",
       "      <td>0</td>\n",
       "    </tr>\n",
       "  </tbody>\n",
       "</table>\n",
       "</div>"
      ],
      "text/plain": [
       "                  source_file  timestamp          x          y        dx   \n",
       "0  27284_2021-Jun-16_08-24-12  74.010688 -33.722675 -20.601950  0.023369  \\\n",
       "1  27284_2021-Jun-16_08-24-12  74.018948 -33.665432 -20.684270  0.057243   \n",
       "2  27284_2021-Jun-16_08-24-12  74.027236 -33.604760 -20.739647  0.060672   \n",
       "\n",
       "         dy        dt  speed_units_per_s  is_immobile  \n",
       "0 -0.051100  0.008242           0.618930            0  \n",
       "1 -0.082320  0.008260           1.103248            0  \n",
       "2 -0.055377  0.008288           0.902313            0  "
      ]
     },
     "execution_count": 37,
     "metadata": {},
     "output_type": "execute_result"
    }
   ],
   "source": [
    "# Retira o primeiro segundo de cada source file\n",
    "df_pos = df_pos.groupby(\"source_file\").apply(lambda x: x.iloc[1:]).reset_index(drop=True)\n",
    "df_pos.head(3)"
   ]
  },
  {
   "cell_type": "code",
   "execution_count": 38,
   "metadata": {
    "executionInfo": {
     "elapsed": 17,
     "status": "ok",
     "timestamp": 1759120319485,
     "user": {
      "displayName": "JOYCE XAVIER",
      "userId": "11065201053352527535"
     },
     "user_tz": 180
    },
    "id": "AtEdJFl2UvaK"
   },
   "outputs": [],
   "source": [
    "def bin_immobility(\n",
    "    df,\n",
    "    bin_size_s=0.010,\n",
    "    min_samples_per_bin=1,\n",
    "    immobile_rule=\"majority\"\n",
    "):\n",
    "\n",
    "    need_cols = {\"source_file\",\"timestamp\",\"is_immobile\"}\n",
    "    if not need_cols.issubset(df.columns):\n",
    "        raise ValueError(f\"df precisa conter colunas {need_cols}\")\n",
    "\n",
    "    has_speed = \"speed_units_per_s\" in df.columns\n",
    "    out = []\n",
    "\n",
    "    # garante ordenação\n",
    "    df = df.sort_values([\"source_file\",\"timestamp\"]).copy()\n",
    "\n",
    "    for sid, g in df.groupby(\"source_file\", group_keys=False):\n",
    "        tmin, tmax = g[\"timestamp\"].min(), g[\"timestamp\"].max()\n",
    "        edges = np.arange(tmin, tmax + bin_size_s, bin_size_s)\n",
    "        if len(edges) < 2:\n",
    "            continue\n",
    "\n",
    "        # index do bin de cada amostra\n",
    "        idx = np.searchsorted(edges, g[\"timestamp\"].to_numpy(), side=\"right\") - 1\n",
    "        valid = (idx >= 0) & (idx < len(edges)-1)\n",
    "        gv = g.loc[valid].copy()\n",
    "        gv[\"bin_idx\"] = idx[valid]\n",
    "\n",
    "        # agrega por bin\n",
    "        grp = gv.groupby(\"bin_idx\")\n",
    "        n_in_bin = grp[\"is_immobile\"].size().reindex(range(len(edges)-1), fill_value=0)\n",
    "\n",
    "        # velocidade média por bin\n",
    "        speed_bin = (grp[\"speed_units_per_s\"].mean()\n",
    "                         .reindex(range(len(edges)-1), fill_value=np.nan)).to_numpy()\n",
    "\n",
    "        # proporção de imobilidade no bin\n",
    "        p_immobile = (grp[\"is_immobile\"].mean()\n",
    "                      .reindex(range(len(edges)-1), fill_value=np.nan)).to_numpy()\n",
    "\n",
    "        # se na maioria ele ta movel ou imovel\n",
    "        immobile_bin = (p_immobile >= 0.5).astype(float)\n",
    "        immobile_bin[np.isnan(p_immobile)] = np.nan  # sem amostras → NaN\n",
    "\n",
    "        centers = 0.5*(edges[:-1] + edges[1:])\n",
    "        out.append(pd.DataFrame({\n",
    "            \"source_file\": sid,\n",
    "            \"bin_start_s\": edges[:-1],\n",
    "            \"bin_end_s\": edges[1:],\n",
    "            \"bin_center_s\": centers,\n",
    "            \"speed_units_per_s\": speed_bin,\n",
    "            \"is_immobile\": immobile_bin,\n",
    "            \"n_samples_in_bin\": n_in_bin.to_numpy()\n",
    "        }))\n",
    "\n",
    "    return pd.concat(out, ignore_index=True) if out else pd.DataFrame()"
   ]
  },
  {
   "cell_type": "code",
   "execution_count": 39,
   "metadata": {
    "colab": {
     "base_uri": "https://localhost:8080/",
     "height": 399
    },
    "executionInfo": {
     "elapsed": 12824,
     "status": "ok",
     "timestamp": 1759120332311,
     "user": {
      "displayName": "JOYCE XAVIER",
      "userId": "11065201053352527535"
     },
     "user_tz": 180
    },
    "id": "wA3P9g4_WV71",
    "outputId": "327d0ac3-e2b9-44da-a03b-9fe905c14c00"
   },
   "outputs": [
    {
     "data": {
      "text/html": [
       "<div>\n",
       "<style scoped>\n",
       "    .dataframe tbody tr th:only-of-type {\n",
       "        vertical-align: middle;\n",
       "    }\n",
       "\n",
       "    .dataframe tbody tr th {\n",
       "        vertical-align: top;\n",
       "    }\n",
       "\n",
       "    .dataframe thead th {\n",
       "        text-align: right;\n",
       "    }\n",
       "</style>\n",
       "<table border=\"1\" class=\"dataframe\">\n",
       "  <thead>\n",
       "    <tr style=\"text-align: right;\">\n",
       "      <th></th>\n",
       "      <th>source_file</th>\n",
       "      <th>bin_start_s</th>\n",
       "      <th>bin_end_s</th>\n",
       "      <th>bin_center_s</th>\n",
       "      <th>speed_units_per_s</th>\n",
       "      <th>is_immobile</th>\n",
       "      <th>n_samples_in_bin</th>\n",
       "    </tr>\n",
       "  </thead>\n",
       "  <tbody>\n",
       "    <tr>\n",
       "      <th>0</th>\n",
       "      <td>27284_2021-Jun-16_08-24-12</td>\n",
       "      <td>74.010688</td>\n",
       "      <td>74.020688</td>\n",
       "      <td>74.015688</td>\n",
       "      <td>0.861089</td>\n",
       "      <td>0.0</td>\n",
       "      <td>2</td>\n",
       "    </tr>\n",
       "    <tr>\n",
       "      <th>1</th>\n",
       "      <td>27284_2021-Jun-16_08-24-12</td>\n",
       "      <td>74.020688</td>\n",
       "      <td>74.030688</td>\n",
       "      <td>74.025688</td>\n",
       "      <td>0.902313</td>\n",
       "      <td>0.0</td>\n",
       "      <td>1</td>\n",
       "    </tr>\n",
       "    <tr>\n",
       "      <th>2</th>\n",
       "      <td>27284_2021-Jun-16_08-24-12</td>\n",
       "      <td>74.030688</td>\n",
       "      <td>74.040688</td>\n",
       "      <td>74.035688</td>\n",
       "      <td>0.979128</td>\n",
       "      <td>0.0</td>\n",
       "      <td>1</td>\n",
       "    </tr>\n",
       "    <tr>\n",
       "      <th>3</th>\n",
       "      <td>27284_2021-Jun-16_08-24-12</td>\n",
       "      <td>74.040688</td>\n",
       "      <td>74.050688</td>\n",
       "      <td>74.045688</td>\n",
       "      <td>1.103128</td>\n",
       "      <td>0.0</td>\n",
       "      <td>1</td>\n",
       "    </tr>\n",
       "    <tr>\n",
       "      <th>4</th>\n",
       "      <td>27284_2021-Jun-16_08-24-12</td>\n",
       "      <td>74.050688</td>\n",
       "      <td>74.060688</td>\n",
       "      <td>74.055688</td>\n",
       "      <td>1.060987</td>\n",
       "      <td>0.0</td>\n",
       "      <td>2</td>\n",
       "    </tr>\n",
       "  </tbody>\n",
       "</table>\n",
       "</div>"
      ],
      "text/plain": [
       "                  source_file  bin_start_s  bin_end_s  bin_center_s   \n",
       "0  27284_2021-Jun-16_08-24-12    74.010688  74.020688     74.015688  \\\n",
       "1  27284_2021-Jun-16_08-24-12    74.020688  74.030688     74.025688   \n",
       "2  27284_2021-Jun-16_08-24-12    74.030688  74.040688     74.035688   \n",
       "3  27284_2021-Jun-16_08-24-12    74.040688  74.050688     74.045688   \n",
       "4  27284_2021-Jun-16_08-24-12    74.050688  74.060688     74.055688   \n",
       "\n",
       "   speed_units_per_s  is_immobile  n_samples_in_bin  \n",
       "0           0.861089          0.0                 2  \n",
       "1           0.902313          0.0                 1  \n",
       "2           0.979128          0.0                 1  \n",
       "3           1.103128          0.0                 1  \n",
       "4           1.060987          0.0                 2  "
      ]
     },
     "execution_count": 39,
     "metadata": {},
     "output_type": "execute_result"
    }
   ],
   "source": [
    "df_bins_pos = bin_immobility(df_pos, bin_size_s=0.010, immobile_rule=\"majority\")\n",
    "df_bins_pos.head()"
   ]
  },
  {
   "cell_type": "markdown",
   "metadata": {
    "id": "DHS4U4ThW0XK"
   },
   "source": [
    "Dividimos o tempo em janelas (bins) de tamanho fixo e, para cada arquivo (source_file), calcula dentro de cada janela: quantas amostras caíram ali, a velocidade média e se o animal foi considerado imóvel ou não (pela regra da maioria dos pontos nesse intervalo). No final, ela retorna um DataFrame organizado por bins, com início, fim, centro, média de velocidade, status de imobilidade e número de amostras em cada bin.\n",
    "\n",
    " O tamanho do bin (~10 ms) é escolhido porque eventos como replay e ripples duram apenas algumas dezenas de milissegundos — assim, essa resolução é suficiente para capturar essas dinâmicas rápidas sem tornar os dados esparsos demais."
   ]
  },
  {
   "cell_type": "markdown",
   "metadata": {
    "id": "8gPzCOB6XpZM"
   },
   "source": [
    "## Epochs + Units"
   ]
  },
  {
   "cell_type": "code",
   "execution_count": 40,
   "metadata": {
    "colab": {
     "base_uri": "https://localhost:8080/",
     "height": 178
    },
    "executionInfo": {
     "elapsed": 24,
     "status": "ok",
     "timestamp": 1759120332311,
     "user": {
      "displayName": "JOYCE XAVIER",
      "userId": "11065201053352527535"
     },
     "user_tz": 180
    },
    "id": "Ug5VJQmrZYL4",
    "outputId": "bab7b171-a9a1-44ae-be48-7f629a8c2268"
   },
   "outputs": [
    {
     "data": {
      "text/plain": [
       "cluster_quality\n",
       "good    7774\n",
       "mua     7381\n",
       "Name: count, dtype: int64"
      ]
     },
     "execution_count": 40,
     "metadata": {},
     "output_type": "execute_result"
    }
   ],
   "source": [
    "df_units[\"cluster_quality\"].value_counts()"
   ]
  },
  {
   "cell_type": "markdown",
   "metadata": {
    "id": "2zZeLsddcTYX"
   },
   "source": [
    "- **MUA (Multi-Unit Activity)**  \n",
    "  Sigla para *Atividade Multiunidade*.  \n",
    "  Representa a atividade elétrica registrada por um eletrodo que capta disparos de **vários neurônios próximos ao mesmo tempo**, sem conseguir separá-los com precisão.  \n",
    "  - Serve para analisar **atividade populacional** — quando queremos saber o nível geral de disparo em uma região ou detectar eventos coletivos, como *sharp-wave ripples*.\n",
    "\n",
    "- **Good (Single-Unit, SU)**  \n",
    "  Indica que o cluster corresponde a **um neurônio isolado** com alta confiança.  \n",
    "  Os spikes são consistentes e bem separados de outros neurônios.  \n",
    "  - Serve para estudar **a codificação individual** dos neurônios, como *place cells* que disparam em posições específicas do ambiente.\n",
    "\n",
    "---\n",
    "\n",
    "Resumindo:  \n",
    "- **MUA** → mistura de vários neurônios → útil para dinâmica global.  \n",
    "- **Good** → um neurônio confiável → útil para análises finas de codificação.\n",
    "\n",
    "Vamos usar os dois pois queremos saber se a população disparou muito num curto intervalo.\n",
    "\n",
    "- mua = ajuda a detectar “quando” pode haver replay (candidatos).\n",
    "\n",
    "- good = ajuda a entender “o que” está sendo reativado (conteúdo da trajetória)."
   ]
  },
  {
   "cell_type": "code",
   "execution_count": 41,
   "metadata": {
    "colab": {
     "base_uri": "https://localhost:8080/",
     "height": 143
    },
    "executionInfo": {
     "elapsed": 20,
     "status": "ok",
     "timestamp": 1759120332315,
     "user": {
      "displayName": "JOYCE XAVIER",
      "userId": "11065201053352527535"
     },
     "user_tz": 180
    },
    "id": "A2iBEHpwez4t",
    "outputId": "44f9605b-8e75-4bac-ea28-d4866aa03564"
   },
   "outputs": [
    {
     "data": {
      "text/html": [
       "<div>\n",
       "<style scoped>\n",
       "    .dataframe tbody tr th:only-of-type {\n",
       "        vertical-align: middle;\n",
       "    }\n",
       "\n",
       "    .dataframe tbody tr th {\n",
       "        vertical-align: top;\n",
       "    }\n",
       "\n",
       "    .dataframe thead th {\n",
       "        text-align: right;\n",
       "    }\n",
       "</style>\n",
       "<table border=\"1\" class=\"dataframe\">\n",
       "  <thead>\n",
       "    <tr style=\"text-align: right;\">\n",
       "      <th></th>\n",
       "      <th>source_file</th>\n",
       "      <th>unit_id</th>\n",
       "    </tr>\n",
       "  </thead>\n",
       "  <tbody>\n",
       "    <tr>\n",
       "      <th>0</th>\n",
       "      <td>27284_2021-Jun-16_08-24-12</td>\n",
       "      <td>5</td>\n",
       "    </tr>\n",
       "    <tr>\n",
       "      <th>1</th>\n",
       "      <td>27284_2021-Jun-16_08-24-12</td>\n",
       "      <td>14</td>\n",
       "    </tr>\n",
       "    <tr>\n",
       "      <th>2</th>\n",
       "      <td>27284_2021-Jun-16_08-24-12</td>\n",
       "      <td>21</td>\n",
       "    </tr>\n",
       "  </tbody>\n",
       "</table>\n",
       "</div>"
      ],
      "text/plain": [
       "                  source_file  unit_id\n",
       "0  27284_2021-Jun-16_08-24-12        5\n",
       "1  27284_2021-Jun-16_08-24-12       14\n",
       "2  27284_2021-Jun-16_08-24-12       21"
      ]
     },
     "execution_count": 41,
     "metadata": {},
     "output_type": "execute_result"
    }
   ],
   "source": [
    "# ids por classe\n",
    "good_ids = df_units.loc[df_units[\"cluster_quality\"]==\"good\", [\"source_file\",\"id\"]].rename(columns={\"id\":\"unit_id\"})\n",
    "mua_ids  = df_units.loc[df_units[\"cluster_quality\"]==\"mua\",  [\"source_file\",\"id\"]].rename(columns={\"id\":\"unit_id\"})\n",
    "\n",
    "# para MUA (população): good + mua\n",
    "all_ids = pd.concat([good_ids, mua_ids], ignore_index=True).drop_duplicates()\n",
    "all_ids.head(3)"
   ]
  },
  {
   "cell_type": "code",
   "execution_count": 42,
   "metadata": {
    "executionInfo": {
     "elapsed": 21,
     "status": "ok",
     "timestamp": 1759120332336,
     "user": {
      "displayName": "JOYCE XAVIER",
      "userId": "11065201053352527535"
     },
     "user_tz": 180
    },
    "id": "h5e0zveOiPAg"
   },
   "outputs": [],
   "source": [
    "# filtra spikes por classes\n",
    "spk_all  = df_spike_times.merge(all_ids,  on=[\"source_file\",\"unit_id\"], how=\"inner\")     # para MUA\n",
    "spk_good = df_spike_times.merge(good_ids, on=[\"source_file\",\"unit_id\"], how=\"inner\")     # para per-unidade"
   ]
  },
  {
   "cell_type": "code",
   "execution_count": 43,
   "metadata": {
    "colab": {
     "base_uri": "https://localhost:8080/",
     "height": 143
    },
    "executionInfo": {
     "elapsed": 24,
     "status": "ok",
     "timestamp": 1759120332362,
     "user": {
      "displayName": "JOYCE XAVIER",
      "userId": "11065201053352527535"
     },
     "user_tz": 180
    },
    "id": "U6rNCF4fiTzk",
    "outputId": "8a35c70b-22e8-4ed1-e64a-cd453dd8c71c"
   },
   "outputs": [
    {
     "data": {
      "text/html": [
       "<div>\n",
       "<style scoped>\n",
       "    .dataframe tbody tr th:only-of-type {\n",
       "        vertical-align: middle;\n",
       "    }\n",
       "\n",
       "    .dataframe tbody tr th {\n",
       "        vertical-align: top;\n",
       "    }\n",
       "\n",
       "    .dataframe thead th {\n",
       "        text-align: right;\n",
       "    }\n",
       "</style>\n",
       "<table border=\"1\" class=\"dataframe\">\n",
       "  <thead>\n",
       "    <tr style=\"text-align: right;\">\n",
       "      <th></th>\n",
       "      <th>source_file</th>\n",
       "      <th>unit_id</th>\n",
       "      <th>spike_time</th>\n",
       "    </tr>\n",
       "  </thead>\n",
       "  <tbody>\n",
       "    <tr>\n",
       "      <th>0</th>\n",
       "      <td>27284_2021-Jun-16_08-24-12</td>\n",
       "      <td>0</td>\n",
       "      <td>28817</td>\n",
       "    </tr>\n",
       "    <tr>\n",
       "      <th>1</th>\n",
       "      <td>27284_2021-Jun-16_08-24-12</td>\n",
       "      <td>0</td>\n",
       "      <td>52973</td>\n",
       "    </tr>\n",
       "    <tr>\n",
       "      <th>2</th>\n",
       "      <td>27284_2021-Jun-16_08-24-12</td>\n",
       "      <td>0</td>\n",
       "      <td>71817</td>\n",
       "    </tr>\n",
       "  </tbody>\n",
       "</table>\n",
       "</div>"
      ],
      "text/plain": [
       "                  source_file  unit_id  spike_time\n",
       "0  27284_2021-Jun-16_08-24-12        0       28817\n",
       "1  27284_2021-Jun-16_08-24-12        0       52973\n",
       "2  27284_2021-Jun-16_08-24-12        0       71817"
      ]
     },
     "execution_count": 43,
     "metadata": {},
     "output_type": "execute_result"
    }
   ],
   "source": [
    "spk_all.head(3)"
   ]
  },
  {
   "cell_type": "code",
   "execution_count": 44,
   "metadata": {
    "colab": {
     "base_uri": "https://localhost:8080/",
     "height": 186
    },
    "executionInfo": {
     "elapsed": 21,
     "status": "ok",
     "timestamp": 1759120332387,
     "user": {
      "displayName": "JOYCE XAVIER",
      "userId": "11065201053352527535"
     },
     "user_tz": 180
    },
    "id": "MnONXwuDiU2e",
    "outputId": "0ffe8fd3-2910-4af4-f3d9-7e6e5cb0f5fa"
   },
   "outputs": [
    {
     "data": {
      "text/html": [
       "<div>\n",
       "<style scoped>\n",
       "    .dataframe tbody tr th:only-of-type {\n",
       "        vertical-align: middle;\n",
       "    }\n",
       "\n",
       "    .dataframe tbody tr th {\n",
       "        vertical-align: top;\n",
       "    }\n",
       "\n",
       "    .dataframe thead th {\n",
       "        text-align: right;\n",
       "    }\n",
       "</style>\n",
       "<table border=\"1\" class=\"dataframe\">\n",
       "  <thead>\n",
       "    <tr style=\"text-align: right;\">\n",
       "      <th></th>\n",
       "      <th>source_file</th>\n",
       "      <th>unit_id</th>\n",
       "      <th>spike_time</th>\n",
       "    </tr>\n",
       "  </thead>\n",
       "  <tbody>\n",
       "    <tr>\n",
       "      <th>0</th>\n",
       "      <td>29630_2024-Sep-17_07-08-26</td>\n",
       "      <td>1</td>\n",
       "      <td>2113</td>\n",
       "    </tr>\n",
       "    <tr>\n",
       "      <th>1</th>\n",
       "      <td>29630_2024-Sep-17_07-08-26</td>\n",
       "      <td>1</td>\n",
       "      <td>2113</td>\n",
       "    </tr>\n",
       "    <tr>\n",
       "      <th>2</th>\n",
       "      <td>29630_2024-Sep-17_07-08-26</td>\n",
       "      <td>1</td>\n",
       "      <td>3355</td>\n",
       "    </tr>\n",
       "  </tbody>\n",
       "</table>\n",
       "</div>"
      ],
      "text/plain": [
       "                  source_file  unit_id  spike_time\n",
       "0  29630_2024-Sep-17_07-08-26        1        2113\n",
       "1  29630_2024-Sep-17_07-08-26        1        2113\n",
       "2  29630_2024-Sep-17_07-08-26        1        3355"
      ]
     },
     "execution_count": 44,
     "metadata": {},
     "output_type": "execute_result"
    }
   ],
   "source": [
    "spk_good.head(3)"
   ]
  },
  {
   "cell_type": "markdown",
   "metadata": {
    "id": "xfoc73BZikR7"
   },
   "source": [
    "Separamos quais unidades são good e mua; criamos dois subconjuntos de spikes: todos (good+mua) para sinal populacional, e só good para análises por neurônio."
   ]
  },
  {
   "cell_type": "code",
   "execution_count": 53,
   "metadata": {
    "executionInfo": {
     "elapsed": 31,
     "status": "ok",
     "timestamp": 1759120332420,
     "user": {
      "displayName": "JOYCE XAVIER",
      "userId": "11065201053352527535"
     },
     "user_tz": 180
    },
    "id": "rk54eEZEjEKW"
   },
   "outputs": [],
   "source": [
    "import numpy as np\n",
    "import pandas as pd\n",
    "from math import floor, ceil\n",
    "\n",
    "BIN_SIZE_S = 0.010  # 10 ms\n",
    "\n",
    "def _floor_to_bin(x, bin_size):\n",
    "    return bin_size * np.floor(x / bin_size)\n",
    "\n",
    "def _build_bins_from_index(bin_idx, t0, bin_size):\n",
    "    start = t0 + bin_idx * bin_size\n",
    "    end   = start + bin_size\n",
    "    center = start + 0.5 * bin_size\n",
    "    return start, end, center\n",
    "\n",
    "def bin_spikes_population(spk_df, bin_size_s=BIN_SIZE_S, window_size_s=None):\n",
    "    \"\"\"\n",
    "    MUA por bin (good+mua), sem alocar bordas/edges.\n",
    "    Se window_size_s for informado, processa em janelas para economizar memória.\n",
    "    Retorna DF com uma linha por bin.\n",
    "    \"\"\"\n",
    "    rows = []\n",
    "    for sid, g in spk_df.groupby(\"source_file\", group_keys=False):\n",
    "        if g.empty:\n",
    "            continue\n",
    "\n",
    "        tmin = float(g[\"spike_time\"].min())\n",
    "        tmax = float(g[\"spike_time\"].max())\n",
    "        t0 = _floor_to_bin(tmin, bin_size_s)\n",
    "        n_units = g[\"unit_id\"].nunique()\n",
    "\n",
    "        # Sem janelas: faz tudo de uma vez\n",
    "        if not window_size_s:\n",
    "            bin_idx = np.floor((g[\"spike_time\"].to_numpy() - t0) / bin_size_s).astype(np.int64)\n",
    "            counts = pd.Series(1, index=bin_idx).groupby(level=0).sum()\n",
    "            start, end, center = _build_bins_from_index(counts.index.to_numpy(), t0, bin_size_s)\n",
    "            out = pd.DataFrame({\n",
    "                \"source_file\": sid,\n",
    "                \"bin_start_s\": start,\n",
    "                \"bin_end_s\":   end,\n",
    "                \"bin_center_s\": center,\n",
    "                \"bin_size_s\":  bin_size_s,\n",
    "                \"mua_count\":   counts.to_numpy(dtype=np.int32),\n",
    "                \"mua_rate_hz\": (counts.to_numpy(dtype=np.float32) / bin_size_s),\n",
    "                \"n_units\":     n_units\n",
    "            })\n",
    "            rows.append(out)\n",
    "        else:\n",
    "            # Em janelas (ex.: 3600 s => 1h). Útil para gravações longas/esparsas.\n",
    "            w = float(window_size_s)\n",
    "            # garante que cobrimos [tmin, tmax]\n",
    "            n_chunks = int(ceil((tmax - tmin) / w)) if (tmax > tmin) else 1\n",
    "            for k in range(n_chunks):\n",
    "                a = tmin + k * w\n",
    "                b = min(a + w, tmax)\n",
    "                sel = g[(g[\"spike_time\"] >= a) & (g[\"spike_time\"] < b)]\n",
    "                if sel.empty:\n",
    "                    continue\n",
    "                t0k = _floor_to_bin(a, bin_size_s)\n",
    "                bin_idx = np.floor((sel[\"spike_time\"].to_numpy() - t0k) / bin_size_s).astype(np.int64)\n",
    "                counts = pd.Series(1, index=bin_idx).groupby(level=0).sum()\n",
    "                start, end, center = _build_bins_from_index(counts.index.to_numpy(), t0k, bin_size_s)\n",
    "                out = pd.DataFrame({\n",
    "                    \"source_file\": sid,\n",
    "                    \"bin_start_s\": start,\n",
    "                    \"bin_end_s\":   end,\n",
    "                    \"bin_center_s\": center,\n",
    "                    \"bin_size_s\":  bin_size_s,\n",
    "                    \"mua_count\":   counts.to_numpy(dtype=np.int32),\n",
    "                    \"mua_rate_hz\": (counts.to_numpy(dtype=np.float32) / bin_size_s),\n",
    "                    \"n_units\":     n_units\n",
    "                })\n",
    "                rows.append(out)\n",
    "\n",
    "    return pd.concat(rows, ignore_index=True) if rows else pd.DataFrame()\n",
    "\n",
    "def bin_spikes_per_unit_good(spk_df, bin_size_s=BIN_SIZE_S, window_size_s=None):\n",
    "    \"\"\"\n",
    "    Contagem por unidade×bin (apenas good), formato longo e esparso (só bins > 0),\n",
    "    sem alocar bordas/edges. Suporta janelamento opcional.\n",
    "    \"\"\"\n",
    "    rows = []\n",
    "    for sid, g in spk_df.groupby(\"source_file\", group_keys=False):\n",
    "        if g.empty:\n",
    "            continue\n",
    "\n",
    "        tmin = float(g[\"spike_time\"].min())\n",
    "        tmax = float(g[\"spike_time\"].max())\n",
    "\n",
    "        if not window_size_s:\n",
    "            t0 = _floor_to_bin(tmin, bin_size_s)\n",
    "            # índice de bin para cada spike\n",
    "            bin_idx = np.floor((g[\"spike_time\"].to_numpy() - t0) / bin_size_s).astype(np.int64)\n",
    "            df_idx = pd.DataFrame({\n",
    "                \"unit_id\": g[\"unit_id\"].to_numpy(),\n",
    "                \"bin_idx\": bin_idx\n",
    "            })\n",
    "            # conta por (unit_id, bin_idx)\n",
    "            counts = df_idx.value_counts([\"unit_id\", \"bin_idx\"]).reset_index(name=\"count\")\n",
    "            start, end, center = _build_bins_from_index(counts[\"bin_idx\"].to_numpy(), t0, bin_size_s)\n",
    "            out = pd.DataFrame({\n",
    "                \"source_file\":  sid,\n",
    "                \"unit_id\":      counts[\"unit_id\"].astype(int).to_numpy(),\n",
    "                \"bin_start_s\":  start,\n",
    "                \"bin_end_s\":    end,\n",
    "                \"bin_center_s\": center,\n",
    "                \"count\":        counts[\"count\"].astype(np.int32).to_numpy()\n",
    "            })\n",
    "            rows.append(out)\n",
    "        else:\n",
    "            w = float(window_size_s)\n",
    "            n_chunks = int(ceil((tmax - tmin) / w)) if (tmax > tmin) else 1\n",
    "            for k in range(n_chunks):\n",
    "                a = tmin + k * w\n",
    "                b = min(a + w, tmax)\n",
    "                sel = g[(g[\"spike_time\"] >= a) & (g[\"spike_time\"] < b)]\n",
    "                if sel.empty:\n",
    "                    continue\n",
    "                t0k = _floor_to_bin(a, bin_size_s)\n",
    "                bin_idx = np.floor((sel[\"spike_time\"].to_numpy() - t0k) / bin_size_s).astype(np.int64)\n",
    "                df_idx = pd.DataFrame({\n",
    "                    \"unit_id\": sel[\"unit_id\"].to_numpy(),\n",
    "                    \"bin_idx\": bin_idx\n",
    "                })\n",
    "                counts = df_idx.value_counts([\"unit_id\", \"bin_idx\"]).reset_index(name=\"count\")\n",
    "                start, end, center = _build_bins_from_index(counts[\"bin_idx\"].to_numpy(), t0k, bin_size_s)\n",
    "                out = pd.DataFrame({\n",
    "                    \"source_file\":  sid,\n",
    "                    \"unit_id\":      counts[\"unit_id\"].astype(int).to_numpy(),\n",
    "                    \"bin_start_s\":  start,\n",
    "                    \"bin_end_s\":    end,\n",
    "                    \"bin_center_s\": center,\n",
    "                    \"count\":        counts[\"count\"].astype(np.int32).to_numpy()\n",
    "                })\n",
    "                rows.append(out)\n",
    "\n",
    "    return pd.concat(rows, ignore_index=True) if rows else pd.DataFrame()\n"
   ]
  },
  {
   "cell_type": "code",
   "execution_count": 54,
   "metadata": {
    "executionInfo": {
     "elapsed": 4,
     "status": "ok",
     "timestamp": 1759120332426,
     "user": {
      "displayName": "JOYCE XAVIER",
      "userId": "11065201053352527535"
     },
     "user_tz": 180
    },
    "id": "OfI32QJpkqwg"
   },
   "outputs": [],
   "source": [
    "df_spk_pop  = bin_spikes_population(spk_all,  BIN_SIZE_S)\n",
    "df_spk_unit = bin_spikes_per_unit_good(spk_good, BIN_SIZE_S)\n"
   ]
  },
  {
   "cell_type": "code",
   "execution_count": 57,
   "metadata": {},
   "outputs": [
    {
     "name": "stdout",
     "output_type": "stream",
     "text": [
      "(13544, 8)\n",
      "(4923, 6)\n"
     ]
    }
   ],
   "source": [
    "# lê o dataset inteiro (todas as partes)\n",
    "print(df_spk_pop.shape)\n",
    "print(df_spk_unit.shape)"
   ]
  },
  {
   "cell_type": "markdown",
   "metadata": {
    "id": "D3QrX_P2j2j_"
   },
   "source": [
    "- Agrega **atividade populacional** (MUA = good + mua) por janelas temporais fixas (*bins*).  \n",
    "Retorna um DataFrame com **uma linha por bin**, por `source_file`.\n",
    "\n",
    "\n",
    "- Conta spikes **por unidade×bin** e retorna em **formato longo e esparso** (só linhas onde `count > 0`).  \n",
    "O docstring diz “(apenas good)”, mas **a função não filtra** — ela assume que **`spk_df` já veio filtrado** (ex.: somente unidades com `cluster_quality == 'good'`).\n",
    "\n",
    "Obs: guarda só bins onde houve spike\n"
   ]
  }
 ],
 "metadata": {
  "colab": {
   "provenance": [],
   "toc_visible": true
  },
  "kernelspec": {
   "display_name": "Python 3",
   "name": "python3"
  },
  "language_info": {
   "codemirror_mode": {
    "name": "ipython",
    "version": 3
   },
   "file_extension": ".py",
   "mimetype": "text/x-python",
   "name": "python",
   "nbconvert_exporter": "python",
   "pygments_lexer": "ipython3",
   "version": "3.11.2"
  }
 },
 "nbformat": 4,
 "nbformat_minor": 0
}
